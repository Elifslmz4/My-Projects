{
 "cells": [
  {
   "cell_type": "markdown",
   "metadata": {
    "id": "xnh26cHKQv1q"
   },
   "source": [
    "# Week 9: Ensemble Methods\n",
    "\n",
    "The dataset and part of the exercises for this week were taken from MLPA.\n",
    "\n",
    "<hr style=\"border:2px solid gray\">\n",
    "\n",
    "## Index: <a id='index'></a>\n",
    "1. [Random Forests](#forests)\n",
    "2. [Boosting Decisions](#boosting)\n",
    "3. [Flavours of Boosting](#flavours)\n",
    "4. [Feature Importances](#feature)\n"
   ]
  },
  {
   "cell_type": "markdown",
   "metadata": {},
   "source": [
    "<hr style=\"border:2px solid gray\">\n",
    "\n",
    "## Random Forests <a id='forests'></a>\n",
    "\n",
    "In this notebook, we use Random Forests to estimate photometric redshifts starting from observations of galaxy magnitudes in six different photometric bands (u, g, r, i, z, y). \n",
    "Essentially, we try to reproduce/improve upon the results of [this paper](https://arxiv.org/abs/1903.08174), for which the data are public and available [here](http://d-scholarship.pitt.edu/36064/). "
   ]
  },
  {
   "cell_type": "code",
   "execution_count": 1,
   "metadata": {
    "id": "mKiBCM6oQv1r"
   },
   "outputs": [],
   "source": [
    "import numpy as np\n",
    "import pandas as pd\n",
    "from scipy import stats\n",
    "import matplotlib\n",
    "import matplotlib.pyplot as plt\n",
    "\n",
    "pd.set_option('display.max_columns', 100)\n",
    "pd.set_option('display.max_rows', 100)\n",
    "pd.set_option('display.max_colwidth', 100)"
   ]
  },
  {
   "cell_type": "code",
   "execution_count": 2,
   "metadata": {
    "id": "mtgxhS0hQv1t"
   },
   "outputs": [],
   "source": [
    "from sklearn import metrics\n",
    "from sklearn.model_selection import train_test_split\n",
    "from sklearn.model_selection import cross_validate, KFold, cross_val_predict, GridSearchCV, RandomizedSearchCV\n",
    "from sklearn.tree import DecisionTreeRegressor, DecisionTreeClassifier\n",
    "\n",
    "# New modules\n",
    "from sklearn.ensemble import RandomForestRegressor, ExtraTreesRegressor\n",
    "from sklearn.ensemble import AdaBoostClassifier, AdaBoostRegressor, GradientBoostingRegressor, HistGradientBoostingRegressor\n",
    "import xgboost as xgb"
   ]
  },
  {
   "cell_type": "code",
   "execution_count": 3,
   "metadata": {
    "id": "u-fEjYyuQv1u"
   },
   "outputs": [],
   "source": [
    "import astropy\n",
    "\n",
    "from astropy.io import fits\n",
    "\n",
    "#fits stands for Flexible Image Transport System; it's a format that allows one to store images and summary data"
   ]
  },
  {
   "cell_type": "markdown",
   "metadata": {
    "id": "3TdqKz1KQv1v"
   },
   "source": [
    "We can read the data into a data frame using pandas:"
   ]
  },
  {
   "cell_type": "code",
   "execution_count": 4,
   "metadata": {
    "id": "o8LTrJC-Qv1w"
   },
   "outputs": [],
   "source": [
    "with fits.open('DEEP2_uniq_Terapix_Subaru_v1.fits') as data:\n",
    "    df = pd.DataFrame(np.array(data[1].data).byteswap().newbyteorder()) #see https://numpy.org/devdocs/user/basics.byteswapping.html#changing-byte-ordering"
   ]
  },
  {
   "cell_type": "markdown",
   "metadata": {},
   "source": [
    "Inspect the data frame using `.columns`, `.head`, `.shape`. "
   ]
  },
  {
   "cell_type": "code",
   "execution_count": 5,
   "metadata": {
    "id": "BEx0ecW2Qv1w",
    "outputId": "55b352b1-68f7-4499-eb00-873ab4cce770",
    "scrolled": true
   },
   "outputs": [
    {
     "data": {
      "text/plain": [
       "Index(['objno_deep2', 'ra_deep2', 'dec_deep2', 'magb', 'magr', 'magi', 'pgal',\n",
       "       'sfd_ebv', 'class', 'subclass', 'objname', 'maskname', 'slitname',\n",
       "       'date', 'mjd', 'z_raw', 'zhelio', 'z_err', 'rchi2', 'dof', 'vdisp',\n",
       "       'vdisp_err', 'zquality', 'egsflags', 'comment', 'm_b', 'ub_0',\n",
       "       'ra_cfhtls', 'dec_cfhtls', 'u', 'g', 'r', 'i', 'i2', 'z', 'uerr',\n",
       "       'gerr', 'rerr', 'ierr', 'i2err', 'zerr', 'u_apercor', 'g_apercor',\n",
       "       'r_apercor', 'i_apercor', 'i2_apercor', 'z_apercor', 'uerr_aper',\n",
       "       'gerr_aper', 'rerr_aper', 'ierr_aper', 'i2err_aper', 'zerr_aper',\n",
       "       'uerr_apercor', 'gerr_apercor', 'rerr_apercor', 'ierr_apercor',\n",
       "       'i2err_apercor', 'zerr_apercor', 'r_radius_arcsec', 'u(sexflag)',\n",
       "       'g(sexflag)', 'r(sexflag)', 'i(sexflag)', 'i2(sexflag)', 'z(sexflag)',\n",
       "       'flag_cfhtls', 'cfhtls_source', 'ra_subaru', 'dec_subaru', 'y', 'yerr',\n",
       "       'y_apercor', 'yerr_aper', 'yerr_apercor', 'y(sexflag)',\n",
       "       'y_radius_arcsec', 'subaru_source'],\n",
       "      dtype='object')"
      ]
     },
     "execution_count": 5,
     "metadata": {},
     "output_type": "execute_result"
    }
   ],
   "source": [
    "df.columns"
   ]
  },
  {
   "cell_type": "code",
   "execution_count": 6,
   "metadata": {
    "id": "3mlDqNP4Qv1x",
    "outputId": "a9635904-51d7-46ec-dc72-1755e10e58ad"
   },
   "outputs": [
    {
     "data": {
      "text/html": [
       "<div>\n",
       "<style scoped>\n",
       "    .dataframe tbody tr th:only-of-type {\n",
       "        vertical-align: middle;\n",
       "    }\n",
       "\n",
       "    .dataframe tbody tr th {\n",
       "        vertical-align: top;\n",
       "    }\n",
       "\n",
       "    .dataframe thead th {\n",
       "        text-align: right;\n",
       "    }\n",
       "</style>\n",
       "<table border=\"1\" class=\"dataframe\">\n",
       "  <thead>\n",
       "    <tr style=\"text-align: right;\">\n",
       "      <th></th>\n",
       "      <th>objno_deep2</th>\n",
       "      <th>ra_deep2</th>\n",
       "      <th>dec_deep2</th>\n",
       "      <th>magb</th>\n",
       "      <th>magr</th>\n",
       "      <th>magi</th>\n",
       "      <th>pgal</th>\n",
       "      <th>sfd_ebv</th>\n",
       "      <th>class</th>\n",
       "      <th>subclass</th>\n",
       "      <th>objname</th>\n",
       "      <th>maskname</th>\n",
       "      <th>slitname</th>\n",
       "      <th>date</th>\n",
       "      <th>mjd</th>\n",
       "      <th>z_raw</th>\n",
       "      <th>zhelio</th>\n",
       "      <th>z_err</th>\n",
       "      <th>rchi2</th>\n",
       "      <th>dof</th>\n",
       "      <th>vdisp</th>\n",
       "      <th>vdisp_err</th>\n",
       "      <th>zquality</th>\n",
       "      <th>egsflags</th>\n",
       "      <th>comment</th>\n",
       "      <th>m_b</th>\n",
       "      <th>ub_0</th>\n",
       "      <th>ra_cfhtls</th>\n",
       "      <th>dec_cfhtls</th>\n",
       "      <th>u</th>\n",
       "      <th>g</th>\n",
       "      <th>r</th>\n",
       "      <th>i</th>\n",
       "      <th>i2</th>\n",
       "      <th>z</th>\n",
       "      <th>uerr</th>\n",
       "      <th>gerr</th>\n",
       "      <th>rerr</th>\n",
       "      <th>ierr</th>\n",
       "      <th>i2err</th>\n",
       "      <th>zerr</th>\n",
       "      <th>u_apercor</th>\n",
       "      <th>g_apercor</th>\n",
       "      <th>r_apercor</th>\n",
       "      <th>i_apercor</th>\n",
       "      <th>i2_apercor</th>\n",
       "      <th>z_apercor</th>\n",
       "      <th>uerr_aper</th>\n",
       "      <th>gerr_aper</th>\n",
       "      <th>rerr_aper</th>\n",
       "      <th>ierr_aper</th>\n",
       "      <th>i2err_aper</th>\n",
       "      <th>zerr_aper</th>\n",
       "      <th>uerr_apercor</th>\n",
       "      <th>gerr_apercor</th>\n",
       "      <th>rerr_apercor</th>\n",
       "      <th>ierr_apercor</th>\n",
       "      <th>i2err_apercor</th>\n",
       "      <th>zerr_apercor</th>\n",
       "      <th>r_radius_arcsec</th>\n",
       "      <th>u(sexflag)</th>\n",
       "      <th>g(sexflag)</th>\n",
       "      <th>r(sexflag)</th>\n",
       "      <th>i(sexflag)</th>\n",
       "      <th>i2(sexflag)</th>\n",
       "      <th>z(sexflag)</th>\n",
       "      <th>flag_cfhtls</th>\n",
       "      <th>cfhtls_source</th>\n",
       "      <th>ra_subaru</th>\n",
       "      <th>dec_subaru</th>\n",
       "      <th>y</th>\n",
       "      <th>yerr</th>\n",
       "      <th>y_apercor</th>\n",
       "      <th>yerr_aper</th>\n",
       "      <th>yerr_apercor</th>\n",
       "      <th>y(sexflag)</th>\n",
       "      <th>y_radius_arcsec</th>\n",
       "      <th>subaru_source</th>\n",
       "    </tr>\n",
       "  </thead>\n",
       "  <tbody>\n",
       "    <tr>\n",
       "      <th>0</th>\n",
       "      <td>11001673</td>\n",
       "      <td>213.868704</td>\n",
       "      <td>51.956445</td>\n",
       "      <td>23.487745</td>\n",
       "      <td>23.143082</td>\n",
       "      <td>22.582092</td>\n",
       "      <td>1.000000</td>\n",
       "      <td>0.010943</td>\n",
       "      <td>b''</td>\n",
       "      <td>b''</td>\n",
       "      <td>b'11001673'</td>\n",
       "      <td>b'1101'</td>\n",
       "      <td>b'000'</td>\n",
       "      <td>b'2003-05-06'</td>\n",
       "      <td>52765.457031</td>\n",
       "      <td>1.115297</td>\n",
       "      <td>1.115261</td>\n",
       "      <td>999.900024</td>\n",
       "      <td>0.630934</td>\n",
       "      <td>57.0</td>\n",
       "      <td>999.900024</td>\n",
       "      <td>999.900024</td>\n",
       "      <td>2</td>\n",
       "      <td>16777216</td>\n",
       "      <td>b'bext, bcol, possible OII'</td>\n",
       "      <td>-999.000000</td>\n",
       "      <td>-999.0000</td>\n",
       "      <td>213.868620</td>\n",
       "      <td>51.956434</td>\n",
       "      <td>23.529039</td>\n",
       "      <td>23.393115</td>\n",
       "      <td>23.148170</td>\n",
       "      <td>22.854212</td>\n",
       "      <td>-99.0</td>\n",
       "      <td>22.162377</td>\n",
       "      <td>0.0678</td>\n",
       "      <td>0.0400</td>\n",
       "      <td>0.0382</td>\n",
       "      <td>0.0678</td>\n",
       "      <td>-99.0</td>\n",
       "      <td>0.0623</td>\n",
       "      <td>23.543491</td>\n",
       "      <td>23.430495</td>\n",
       "      <td>23.100311</td>\n",
       "      <td>22.768970</td>\n",
       "      <td>-99.0</td>\n",
       "      <td>22.223810</td>\n",
       "      <td>0.0542</td>\n",
       "      <td>0.0323</td>\n",
       "      <td>0.0279</td>\n",
       "      <td>0.0466</td>\n",
       "      <td>-99.0</td>\n",
       "      <td>0.0536</td>\n",
       "      <td>0.039631</td>\n",
       "      <td>0.041359</td>\n",
       "      <td>0.039777</td>\n",
       "      <td>0.046863</td>\n",
       "      <td>-99.0</td>\n",
       "      <td>0.043833</td>\n",
       "      <td>0.581804</td>\n",
       "      <td>3</td>\n",
       "      <td>3</td>\n",
       "      <td>3</td>\n",
       "      <td>3</td>\n",
       "      <td>-99</td>\n",
       "      <td>3</td>\n",
       "      <td>0</td>\n",
       "      <td>1</td>\n",
       "      <td>213.868626</td>\n",
       "      <td>51.956443</td>\n",
       "      <td>21.869627</td>\n",
       "      <td>0.060918</td>\n",
       "      <td>21.926356</td>\n",
       "      <td>0.041955</td>\n",
       "      <td>0.141778</td>\n",
       "      <td>3.0</td>\n",
       "      <td>0.656514</td>\n",
       "      <td>1</td>\n",
       "    </tr>\n",
       "    <tr>\n",
       "      <th>1</th>\n",
       "      <td>11001699</td>\n",
       "      <td>213.810471</td>\n",
       "      <td>51.942316</td>\n",
       "      <td>22.067692</td>\n",
       "      <td>20.034674</td>\n",
       "      <td>19.545080</td>\n",
       "      <td>3.000000</td>\n",
       "      <td>0.011014</td>\n",
       "      <td>b'GALAXY'</td>\n",
       "      <td>b''</td>\n",
       "      <td>b'11001699'</td>\n",
       "      <td>b'1100'</td>\n",
       "      <td>b'7'</td>\n",
       "      <td>b'2003-05-03'</td>\n",
       "      <td>52762.441406</td>\n",
       "      <td>0.290641</td>\n",
       "      <td>0.290608</td>\n",
       "      <td>0.000043</td>\n",
       "      <td>1.178153</td>\n",
       "      <td>5901.0</td>\n",
       "      <td>166.334991</td>\n",
       "      <td>49.481255</td>\n",
       "      <td>4</td>\n",
       "      <td>16777216</td>\n",
       "      <td>b''</td>\n",
       "      <td>-19.228701</td>\n",
       "      <td>1.1295</td>\n",
       "      <td>213.810138</td>\n",
       "      <td>51.942348</td>\n",
       "      <td>30.123756</td>\n",
       "      <td>28.298480</td>\n",
       "      <td>18.540350</td>\n",
       "      <td>99.000000</td>\n",
       "      <td>-99.0</td>\n",
       "      <td>99.000000</td>\n",
       "      <td>0.0000</td>\n",
       "      <td>0.0000</td>\n",
       "      <td>0.0014</td>\n",
       "      <td>99.0000</td>\n",
       "      <td>-99.0</td>\n",
       "      <td>99.0000</td>\n",
       "      <td>30.848978</td>\n",
       "      <td>28.989668</td>\n",
       "      <td>19.027422</td>\n",
       "      <td>99.000000</td>\n",
       "      <td>-99.0</td>\n",
       "      <td>99.000000</td>\n",
       "      <td>0.0000</td>\n",
       "      <td>0.0000</td>\n",
       "      <td>0.0028</td>\n",
       "      <td>99.0000</td>\n",
       "      <td>-99.0</td>\n",
       "      <td>99.0000</td>\n",
       "      <td>0.029567</td>\n",
       "      <td>0.030353</td>\n",
       "      <td>0.027558</td>\n",
       "      <td>99.000000</td>\n",
       "      <td>-99.0</td>\n",
       "      <td>99.000000</td>\n",
       "      <td>0.824625</td>\n",
       "      <td>19</td>\n",
       "      <td>19</td>\n",
       "      <td>19</td>\n",
       "      <td>3</td>\n",
       "      <td>-99</td>\n",
       "      <td>3</td>\n",
       "      <td>244</td>\n",
       "      <td>1</td>\n",
       "      <td>213.810455</td>\n",
       "      <td>51.942321</td>\n",
       "      <td>18.757229</td>\n",
       "      <td>0.005813</td>\n",
       "      <td>18.811085</td>\n",
       "      <td>0.004386</td>\n",
       "      <td>0.050987</td>\n",
       "      <td>3.0</td>\n",
       "      <td>0.744269</td>\n",
       "      <td>1</td>\n",
       "    </tr>\n",
       "    <tr>\n",
       "      <th>2</th>\n",
       "      <td>11001770</td>\n",
       "      <td>213.848431</td>\n",
       "      <td>51.948876</td>\n",
       "      <td>24.144438</td>\n",
       "      <td>24.103180</td>\n",
       "      <td>24.020006</td>\n",
       "      <td>3.000000</td>\n",
       "      <td>0.010856</td>\n",
       "      <td>b'GALAXY'</td>\n",
       "      <td>b''</td>\n",
       "      <td>b'11001770'</td>\n",
       "      <td>b'1101'</td>\n",
       "      <td>b'003'</td>\n",
       "      <td>b'2003-05-06'</td>\n",
       "      <td>52765.457031</td>\n",
       "      <td>0.605779</td>\n",
       "      <td>0.605744</td>\n",
       "      <td>-5.000000</td>\n",
       "      <td>1.047260</td>\n",
       "      <td>5318.0</td>\n",
       "      <td>184.860001</td>\n",
       "      <td>195.000000</td>\n",
       "      <td>1</td>\n",
       "      <td>16777216</td>\n",
       "      <td>b''</td>\n",
       "      <td>-999.000000</td>\n",
       "      <td>-999.0000</td>\n",
       "      <td>213.848409</td>\n",
       "      <td>51.948865</td>\n",
       "      <td>24.294289</td>\n",
       "      <td>24.399293</td>\n",
       "      <td>24.413366</td>\n",
       "      <td>23.398456</td>\n",
       "      <td>-99.0</td>\n",
       "      <td>24.157690</td>\n",
       "      <td>0.1646</td>\n",
       "      <td>0.1383</td>\n",
       "      <td>0.2306</td>\n",
       "      <td>0.1867</td>\n",
       "      <td>-99.0</td>\n",
       "      <td>0.4558</td>\n",
       "      <td>24.324670</td>\n",
       "      <td>24.273606</td>\n",
       "      <td>24.150319</td>\n",
       "      <td>23.446252</td>\n",
       "      <td>-99.0</td>\n",
       "      <td>23.574236</td>\n",
       "      <td>0.1146</td>\n",
       "      <td>0.0870</td>\n",
       "      <td>0.1242</td>\n",
       "      <td>0.1309</td>\n",
       "      <td>-99.0</td>\n",
       "      <td>0.1793</td>\n",
       "      <td>0.111127</td>\n",
       "      <td>0.130134</td>\n",
       "      <td>0.123620</td>\n",
       "      <td>0.117813</td>\n",
       "      <td>-99.0</td>\n",
       "      <td>0.101059</td>\n",
       "      <td>0.728119</td>\n",
       "      <td>0</td>\n",
       "      <td>0</td>\n",
       "      <td>0</td>\n",
       "      <td>0</td>\n",
       "      <td>-99</td>\n",
       "      <td>0</td>\n",
       "      <td>0</td>\n",
       "      <td>1</td>\n",
       "      <td>-99.000000</td>\n",
       "      <td>-99.000000</td>\n",
       "      <td>-99.000000</td>\n",
       "      <td>-99.000000</td>\n",
       "      <td>-99.000000</td>\n",
       "      <td>-99.000000</td>\n",
       "      <td>-99.000000</td>\n",
       "      <td>-99.0</td>\n",
       "      <td>-99.000000</td>\n",
       "      <td>-99</td>\n",
       "    </tr>\n",
       "    <tr>\n",
       "      <th>3</th>\n",
       "      <td>11001800</td>\n",
       "      <td>213.831758</td>\n",
       "      <td>51.952548</td>\n",
       "      <td>25.336836</td>\n",
       "      <td>23.508480</td>\n",
       "      <td>23.081087</td>\n",
       "      <td>0.509809</td>\n",
       "      <td>0.010823</td>\n",
       "      <td>b'GALAXY'</td>\n",
       "      <td>b''</td>\n",
       "      <td>b'11001800'</td>\n",
       "      <td>b'1100'</td>\n",
       "      <td>b'004'</td>\n",
       "      <td>b'2003-05-03'</td>\n",
       "      <td>52762.441406</td>\n",
       "      <td>1.306830</td>\n",
       "      <td>1.306796</td>\n",
       "      <td>-5.000000</td>\n",
       "      <td>1.014062</td>\n",
       "      <td>5788.0</td>\n",
       "      <td>0.000000</td>\n",
       "      <td>0.000000</td>\n",
       "      <td>1</td>\n",
       "      <td>16777216</td>\n",
       "      <td>b''</td>\n",
       "      <td>-999.000000</td>\n",
       "      <td>-999.0000</td>\n",
       "      <td>213.831785</td>\n",
       "      <td>51.952539</td>\n",
       "      <td>26.363821</td>\n",
       "      <td>24.530998</td>\n",
       "      <td>23.559140</td>\n",
       "      <td>23.065110</td>\n",
       "      <td>-99.0</td>\n",
       "      <td>22.737333</td>\n",
       "      <td>0.9609</td>\n",
       "      <td>0.1344</td>\n",
       "      <td>0.0648</td>\n",
       "      <td>0.0997</td>\n",
       "      <td>-99.0</td>\n",
       "      <td>0.1110</td>\n",
       "      <td>99.000000</td>\n",
       "      <td>24.804309</td>\n",
       "      <td>23.636544</td>\n",
       "      <td>23.009222</td>\n",
       "      <td>-99.0</td>\n",
       "      <td>22.689591</td>\n",
       "      <td>99.0000</td>\n",
       "      <td>0.1077</td>\n",
       "      <td>0.0426</td>\n",
       "      <td>0.0568</td>\n",
       "      <td>-99.0</td>\n",
       "      <td>0.0661</td>\n",
       "      <td>99.000000</td>\n",
       "      <td>0.046521</td>\n",
       "      <td>0.041142</td>\n",
       "      <td>0.054297</td>\n",
       "      <td>-99.0</td>\n",
       "      <td>0.053818</td>\n",
       "      <td>0.549061</td>\n",
       "      <td>0</td>\n",
       "      <td>0</td>\n",
       "      <td>0</td>\n",
       "      <td>0</td>\n",
       "      <td>-99</td>\n",
       "      <td>0</td>\n",
       "      <td>0</td>\n",
       "      <td>1</td>\n",
       "      <td>213.831766</td>\n",
       "      <td>51.952544</td>\n",
       "      <td>22.404269</td>\n",
       "      <td>0.088970</td>\n",
       "      <td>22.535600</td>\n",
       "      <td>0.053497</td>\n",
       "      <td>0.094733</td>\n",
       "      <td>0.0</td>\n",
       "      <td>0.455820</td>\n",
       "      <td>1</td>\n",
       "    </tr>\n",
       "    <tr>\n",
       "      <th>4</th>\n",
       "      <td>11001860</td>\n",
       "      <td>213.832550</td>\n",
       "      <td>51.954174</td>\n",
       "      <td>24.382738</td>\n",
       "      <td>23.401484</td>\n",
       "      <td>22.572845</td>\n",
       "      <td>3.000000</td>\n",
       "      <td>0.010827</td>\n",
       "      <td>b'GALAXY'</td>\n",
       "      <td>b''</td>\n",
       "      <td>b'11001860'</td>\n",
       "      <td>b'1101'</td>\n",
       "      <td>b'10'</td>\n",
       "      <td>b'2003-05-06'</td>\n",
       "      <td>52765.457031</td>\n",
       "      <td>0.957705</td>\n",
       "      <td>0.957669</td>\n",
       "      <td>0.000099</td>\n",
       "      <td>1.039979</td>\n",
       "      <td>5952.0</td>\n",
       "      <td>109.394997</td>\n",
       "      <td>17.208755</td>\n",
       "      <td>4</td>\n",
       "      <td>16777216</td>\n",
       "      <td>b''</td>\n",
       "      <td>-20.083200</td>\n",
       "      <td>0.7524</td>\n",
       "      <td>213.832540</td>\n",
       "      <td>51.954167</td>\n",
       "      <td>24.571406</td>\n",
       "      <td>24.023086</td>\n",
       "      <td>23.493832</td>\n",
       "      <td>22.691404</td>\n",
       "      <td>-99.0</td>\n",
       "      <td>22.387428</td>\n",
       "      <td>0.1924</td>\n",
       "      <td>0.0874</td>\n",
       "      <td>0.0651</td>\n",
       "      <td>0.0715</td>\n",
       "      <td>-99.0</td>\n",
       "      <td>0.0850</td>\n",
       "      <td>24.362068</td>\n",
       "      <td>24.136913</td>\n",
       "      <td>23.490342</td>\n",
       "      <td>22.777181</td>\n",
       "      <td>-99.0</td>\n",
       "      <td>22.319676</td>\n",
       "      <td>0.1002</td>\n",
       "      <td>0.0615</td>\n",
       "      <td>0.0420</td>\n",
       "      <td>0.0473</td>\n",
       "      <td>-99.0</td>\n",
       "      <td>0.0508</td>\n",
       "      <td>0.050326</td>\n",
       "      <td>0.053198</td>\n",
       "      <td>0.052364</td>\n",
       "      <td>0.058492</td>\n",
       "      <td>-99.0</td>\n",
       "      <td>0.053587</td>\n",
       "      <td>0.595684</td>\n",
       "      <td>0</td>\n",
       "      <td>0</td>\n",
       "      <td>0</td>\n",
       "      <td>0</td>\n",
       "      <td>-99</td>\n",
       "      <td>0</td>\n",
       "      <td>0</td>\n",
       "      <td>1</td>\n",
       "      <td>213.832574</td>\n",
       "      <td>51.954175</td>\n",
       "      <td>22.242717</td>\n",
       "      <td>0.070760</td>\n",
       "      <td>22.100980</td>\n",
       "      <td>0.033256</td>\n",
       "      <td>0.073067</td>\n",
       "      <td>0.0</td>\n",
       "      <td>0.442022</td>\n",
       "      <td>1</td>\n",
       "    </tr>\n",
       "  </tbody>\n",
       "</table>\n",
       "</div>"
      ],
      "text/plain": [
       "   objno_deep2    ra_deep2  dec_deep2       magb       magr       magi  \\\n",
       "0     11001673  213.868704  51.956445  23.487745  23.143082  22.582092   \n",
       "1     11001699  213.810471  51.942316  22.067692  20.034674  19.545080   \n",
       "2     11001770  213.848431  51.948876  24.144438  24.103180  24.020006   \n",
       "3     11001800  213.831758  51.952548  25.336836  23.508480  23.081087   \n",
       "4     11001860  213.832550  51.954174  24.382738  23.401484  22.572845   \n",
       "\n",
       "       pgal   sfd_ebv      class subclass      objname maskname slitname  \\\n",
       "0  1.000000  0.010943        b''      b''  b'11001673'  b'1101'   b'000'   \n",
       "1  3.000000  0.011014  b'GALAXY'      b''  b'11001699'  b'1100'     b'7'   \n",
       "2  3.000000  0.010856  b'GALAXY'      b''  b'11001770'  b'1101'   b'003'   \n",
       "3  0.509809  0.010823  b'GALAXY'      b''  b'11001800'  b'1100'   b'004'   \n",
       "4  3.000000  0.010827  b'GALAXY'      b''  b'11001860'  b'1101'    b'10'   \n",
       "\n",
       "            date           mjd     z_raw    zhelio       z_err     rchi2  \\\n",
       "0  b'2003-05-06'  52765.457031  1.115297  1.115261  999.900024  0.630934   \n",
       "1  b'2003-05-03'  52762.441406  0.290641  0.290608    0.000043  1.178153   \n",
       "2  b'2003-05-06'  52765.457031  0.605779  0.605744   -5.000000  1.047260   \n",
       "3  b'2003-05-03'  52762.441406  1.306830  1.306796   -5.000000  1.014062   \n",
       "4  b'2003-05-06'  52765.457031  0.957705  0.957669    0.000099  1.039979   \n",
       "\n",
       "      dof       vdisp   vdisp_err  zquality  egsflags  \\\n",
       "0    57.0  999.900024  999.900024         2  16777216   \n",
       "1  5901.0  166.334991   49.481255         4  16777216   \n",
       "2  5318.0  184.860001  195.000000         1  16777216   \n",
       "3  5788.0    0.000000    0.000000         1  16777216   \n",
       "4  5952.0  109.394997   17.208755         4  16777216   \n",
       "\n",
       "                       comment         m_b      ub_0   ra_cfhtls  dec_cfhtls  \\\n",
       "0  b'bext, bcol, possible OII' -999.000000 -999.0000  213.868620   51.956434   \n",
       "1                          b''  -19.228701    1.1295  213.810138   51.942348   \n",
       "2                          b'' -999.000000 -999.0000  213.848409   51.948865   \n",
       "3                          b'' -999.000000 -999.0000  213.831785   51.952539   \n",
       "4                          b''  -20.083200    0.7524  213.832540   51.954167   \n",
       "\n",
       "           u          g          r          i    i2          z    uerr  \\\n",
       "0  23.529039  23.393115  23.148170  22.854212 -99.0  22.162377  0.0678   \n",
       "1  30.123756  28.298480  18.540350  99.000000 -99.0  99.000000  0.0000   \n",
       "2  24.294289  24.399293  24.413366  23.398456 -99.0  24.157690  0.1646   \n",
       "3  26.363821  24.530998  23.559140  23.065110 -99.0  22.737333  0.9609   \n",
       "4  24.571406  24.023086  23.493832  22.691404 -99.0  22.387428  0.1924   \n",
       "\n",
       "     gerr    rerr     ierr  i2err     zerr  u_apercor  g_apercor  r_apercor  \\\n",
       "0  0.0400  0.0382   0.0678  -99.0   0.0623  23.543491  23.430495  23.100311   \n",
       "1  0.0000  0.0014  99.0000  -99.0  99.0000  30.848978  28.989668  19.027422   \n",
       "2  0.1383  0.2306   0.1867  -99.0   0.4558  24.324670  24.273606  24.150319   \n",
       "3  0.1344  0.0648   0.0997  -99.0   0.1110  99.000000  24.804309  23.636544   \n",
       "4  0.0874  0.0651   0.0715  -99.0   0.0850  24.362068  24.136913  23.490342   \n",
       "\n",
       "   i_apercor  i2_apercor  z_apercor  uerr_aper  gerr_aper  rerr_aper  \\\n",
       "0  22.768970       -99.0  22.223810     0.0542     0.0323     0.0279   \n",
       "1  99.000000       -99.0  99.000000     0.0000     0.0000     0.0028   \n",
       "2  23.446252       -99.0  23.574236     0.1146     0.0870     0.1242   \n",
       "3  23.009222       -99.0  22.689591    99.0000     0.1077     0.0426   \n",
       "4  22.777181       -99.0  22.319676     0.1002     0.0615     0.0420   \n",
       "\n",
       "   ierr_aper  i2err_aper  zerr_aper  uerr_apercor  gerr_apercor  rerr_apercor  \\\n",
       "0     0.0466       -99.0     0.0536      0.039631      0.041359      0.039777   \n",
       "1    99.0000       -99.0    99.0000      0.029567      0.030353      0.027558   \n",
       "2     0.1309       -99.0     0.1793      0.111127      0.130134      0.123620   \n",
       "3     0.0568       -99.0     0.0661     99.000000      0.046521      0.041142   \n",
       "4     0.0473       -99.0     0.0508      0.050326      0.053198      0.052364   \n",
       "\n",
       "   ierr_apercor  i2err_apercor  zerr_apercor  r_radius_arcsec  u(sexflag)  \\\n",
       "0      0.046863          -99.0      0.043833         0.581804           3   \n",
       "1     99.000000          -99.0     99.000000         0.824625          19   \n",
       "2      0.117813          -99.0      0.101059         0.728119           0   \n",
       "3      0.054297          -99.0      0.053818         0.549061           0   \n",
       "4      0.058492          -99.0      0.053587         0.595684           0   \n",
       "\n",
       "   g(sexflag)  r(sexflag)  i(sexflag)  i2(sexflag)  z(sexflag)  flag_cfhtls  \\\n",
       "0           3           3           3          -99           3            0   \n",
       "1          19          19           3          -99           3          244   \n",
       "2           0           0           0          -99           0            0   \n",
       "3           0           0           0          -99           0            0   \n",
       "4           0           0           0          -99           0            0   \n",
       "\n",
       "   cfhtls_source   ra_subaru  dec_subaru          y       yerr  y_apercor  \\\n",
       "0              1  213.868626   51.956443  21.869627   0.060918  21.926356   \n",
       "1              1  213.810455   51.942321  18.757229   0.005813  18.811085   \n",
       "2              1  -99.000000  -99.000000 -99.000000 -99.000000 -99.000000   \n",
       "3              1  213.831766   51.952544  22.404269   0.088970  22.535600   \n",
       "4              1  213.832574   51.954175  22.242717   0.070760  22.100980   \n",
       "\n",
       "   yerr_aper  yerr_apercor  y(sexflag)  y_radius_arcsec  subaru_source  \n",
       "0   0.041955      0.141778         3.0         0.656514              1  \n",
       "1   0.004386      0.050987         3.0         0.744269              1  \n",
       "2 -99.000000    -99.000000       -99.0       -99.000000            -99  \n",
       "3   0.053497      0.094733         0.0         0.455820              1  \n",
       "4   0.033256      0.073067         0.0         0.442022              1  "
      ]
     },
     "execution_count": 6,
     "metadata": {},
     "output_type": "execute_result"
    }
   ],
   "source": [
    "df.head()"
   ]
  },
  {
   "cell_type": "code",
   "execution_count": 7,
   "metadata": {
    "id": "kKaur7ZgQv1z",
    "outputId": "91eba0cd-af37-4a2b-a730-ab933fc6c24c"
   },
   "outputs": [
    {
     "data": {
      "text/plain": [
       "(23822, 78)"
      ]
     },
     "execution_count": 7,
     "metadata": {},
     "output_type": "execute_result"
    }
   ],
   "source": [
    "df.shape"
   ]
  },
  {
   "cell_type": "markdown",
   "metadata": {
    "id": "1Icbd4KqQv10"
   },
   "source": [
    "We can select the columns we want, corresponding to the brightness of the galaxies in the six bands of interest."
   ]
  },
  {
   "cell_type": "code",
   "execution_count": 8,
   "metadata": {
    "id": "mdobujjcQv10"
   },
   "outputs": [],
   "source": [
    "features = df[['u_apercor', 'g_apercor', 'r_apercor', 'i_apercor', 'z_apercor','y_apercor']]"
   ]
  },
  {
   "cell_type": "markdown",
   "metadata": {
    "id": "BXMUfAkiQv11"
   },
   "source": [
    "The target property is the redshift. For this catalog, spectroscopic (more precise) redshifts, to use as the ground truth, are available in the column \"zhelio\"."
   ]
  },
  {
   "cell_type": "code",
   "execution_count": 9,
   "metadata": {
    "id": "E4Xo_lVmQv11"
   },
   "outputs": [],
   "source": [
    "target = df['zhelio']"
   ]
  },
  {
   "cell_type": "code",
   "execution_count": 10,
   "metadata": {
    "id": "EhxISFFXQv12",
    "outputId": "f6b89bda-b2bd-4234-f1c0-ec5b5aaad968"
   },
   "outputs": [
    {
     "data": {
      "text/html": [
       "<div>\n",
       "<style scoped>\n",
       "    .dataframe tbody tr th:only-of-type {\n",
       "        vertical-align: middle;\n",
       "    }\n",
       "\n",
       "    .dataframe tbody tr th {\n",
       "        vertical-align: top;\n",
       "    }\n",
       "\n",
       "    .dataframe thead th {\n",
       "        text-align: right;\n",
       "    }\n",
       "</style>\n",
       "<table border=\"1\" class=\"dataframe\">\n",
       "  <thead>\n",
       "    <tr style=\"text-align: right;\">\n",
       "      <th></th>\n",
       "      <th>u_apercor</th>\n",
       "      <th>g_apercor</th>\n",
       "      <th>r_apercor</th>\n",
       "      <th>i_apercor</th>\n",
       "      <th>z_apercor</th>\n",
       "      <th>y_apercor</th>\n",
       "    </tr>\n",
       "  </thead>\n",
       "  <tbody>\n",
       "    <tr>\n",
       "      <th>0</th>\n",
       "      <td>23.543491</td>\n",
       "      <td>23.430495</td>\n",
       "      <td>23.100311</td>\n",
       "      <td>22.768970</td>\n",
       "      <td>22.223810</td>\n",
       "      <td>21.926356</td>\n",
       "    </tr>\n",
       "    <tr>\n",
       "      <th>1</th>\n",
       "      <td>30.848978</td>\n",
       "      <td>28.989668</td>\n",
       "      <td>19.027422</td>\n",
       "      <td>99.000000</td>\n",
       "      <td>99.000000</td>\n",
       "      <td>18.811085</td>\n",
       "    </tr>\n",
       "    <tr>\n",
       "      <th>2</th>\n",
       "      <td>24.324670</td>\n",
       "      <td>24.273606</td>\n",
       "      <td>24.150319</td>\n",
       "      <td>23.446252</td>\n",
       "      <td>23.574236</td>\n",
       "      <td>-99.000000</td>\n",
       "    </tr>\n",
       "    <tr>\n",
       "      <th>3</th>\n",
       "      <td>99.000000</td>\n",
       "      <td>24.804309</td>\n",
       "      <td>23.636544</td>\n",
       "      <td>23.009222</td>\n",
       "      <td>22.689591</td>\n",
       "      <td>22.535600</td>\n",
       "    </tr>\n",
       "    <tr>\n",
       "      <th>4</th>\n",
       "      <td>24.362068</td>\n",
       "      <td>24.136913</td>\n",
       "      <td>23.490342</td>\n",
       "      <td>22.777181</td>\n",
       "      <td>22.319676</td>\n",
       "      <td>22.100980</td>\n",
       "    </tr>\n",
       "    <tr>\n",
       "      <th>5</th>\n",
       "      <td>23.552186</td>\n",
       "      <td>23.420734</td>\n",
       "      <td>23.010863</td>\n",
       "      <td>22.550723</td>\n",
       "      <td>22.277656</td>\n",
       "      <td>21.860866</td>\n",
       "    </tr>\n",
       "    <tr>\n",
       "      <th>6</th>\n",
       "      <td>23.983330</td>\n",
       "      <td>24.104438</td>\n",
       "      <td>23.461145</td>\n",
       "      <td>23.359428</td>\n",
       "      <td>22.929944</td>\n",
       "      <td>22.690175</td>\n",
       "    </tr>\n",
       "    <tr>\n",
       "      <th>7</th>\n",
       "      <td>24.665840</td>\n",
       "      <td>24.408938</td>\n",
       "      <td>23.544115</td>\n",
       "      <td>23.155140</td>\n",
       "      <td>22.706477</td>\n",
       "      <td>22.894691</td>\n",
       "    </tr>\n",
       "    <tr>\n",
       "      <th>8</th>\n",
       "      <td>23.518039</td>\n",
       "      <td>22.746858</td>\n",
       "      <td>21.571629</td>\n",
       "      <td>20.645176</td>\n",
       "      <td>20.428926</td>\n",
       "      <td>20.306110</td>\n",
       "    </tr>\n",
       "    <tr>\n",
       "      <th>9</th>\n",
       "      <td>22.755723</td>\n",
       "      <td>21.915841</td>\n",
       "      <td>21.393365</td>\n",
       "      <td>21.148952</td>\n",
       "      <td>21.052236</td>\n",
       "      <td>20.830114</td>\n",
       "    </tr>\n",
       "  </tbody>\n",
       "</table>\n",
       "</div>"
      ],
      "text/plain": [
       "   u_apercor  g_apercor  r_apercor  i_apercor  z_apercor  y_apercor\n",
       "0  23.543491  23.430495  23.100311  22.768970  22.223810  21.926356\n",
       "1  30.848978  28.989668  19.027422  99.000000  99.000000  18.811085\n",
       "2  24.324670  24.273606  24.150319  23.446252  23.574236 -99.000000\n",
       "3  99.000000  24.804309  23.636544  23.009222  22.689591  22.535600\n",
       "4  24.362068  24.136913  23.490342  22.777181  22.319676  22.100980\n",
       "5  23.552186  23.420734  23.010863  22.550723  22.277656  21.860866\n",
       "6  23.983330  24.104438  23.461145  23.359428  22.929944  22.690175\n",
       "7  24.665840  24.408938  23.544115  23.155140  22.706477  22.894691\n",
       "8  23.518039  22.746858  21.571629  20.645176  20.428926  20.306110\n",
       "9  22.755723  21.915841  21.393365  21.148952  21.052236  20.830114"
      ]
     },
     "execution_count": 10,
     "metadata": {},
     "output_type": "execute_result"
    }
   ],
   "source": [
    "features.head(10)"
   ]
  },
  {
   "cell_type": "code",
   "execution_count": 11,
   "metadata": {
    "id": "vFy4Hvu8Qv12",
    "outputId": "c5e03ddc-051c-4674-85ee-ee3907bfb742"
   },
   "outputs": [
    {
     "data": {
      "text/plain": [
       "0    1.115261\n",
       "1    0.290608\n",
       "2    0.605744\n",
       "3    1.306796\n",
       "4    0.957669\n",
       "5    0.909043\n",
       "6    0.502974\n",
       "7    0.649839\n",
       "8    0.679440\n",
       "9    0.074078\n",
       "Name: zhelio, dtype: float32"
      ]
     },
     "execution_count": 11,
     "metadata": {},
     "output_type": "execute_result"
    }
   ],
   "source": [
    "target.head(10)"
   ]
  },
  {
   "cell_type": "markdown",
   "metadata": {
    "id": "-DKxrrOfQv13"
   },
   "source": [
    "To get an idea of what we are shooting for, we can look at a figure in the paper:\n",
    "\n",
    " ![Performance of photometric redshift reconstruction](Photoz_RF_CFHTLS_Deep.png)"
   ]
  },
  {
   "cell_type": "markdown",
   "metadata": {
    "id": "oZym_077Qv13"
   },
   "source": [
    "In the figure above, $\\sigma_{NMAD}$ is the normalized median absolute deviation of the residual vector, and $\\eta$  is the fraction of outliers, defined as those objects for which (z_true - z_est)/(1+z_true) > 0.15.\n",
    "\n",
    "We are working with DEEP2/3 data, so our range will be slightly different."
   ]
  },
  {
   "cell_type": "code",
   "execution_count": null,
   "metadata": {},
   "outputs": [],
   "source": []
  },
  {
   "cell_type": "markdown",
   "metadata": {},
   "source": [
    "<div style=\"background-color:#C2F5DD\">\n",
    "\n",
    "## Exercise 1\n",
    "1. Define a new model as `RandomForestRegressor()` with default parameters. Print out the hyperparameters of the module to get an idea of what you can play with.  *Hint: `use .get_params()`*\n",
    "2. Establish the benchmark of the module by running a cross validation on the `model` and `features` (use a shuffle `KFold` with 5 folds and `random_state=10`). Get the mean and standard deviation of the test and train scores. *NB: the `cross_validate` funtion will take roughly 2 mins to run.*\n",
    "3. How do these look? High/low variance? High/low bias?\n",
    "4. Generate cross-validated estimates using `cross_val_predict` (*it should also take roughly 2 mins*).\n",
    "5. Plot a scatter graph of the Predicted z vs True (spectroscopic) z.\n",
    "6. Does it look like the one above?\n",
    "7. Make a plot with two overlaid histograms: the predicted z and the True z. Any comment on the shape?"
   ]
  },
  {
   "cell_type": "code",
   "execution_count": 12,
   "metadata": {},
   "outputs": [
    {
     "name": "stdout",
     "output_type": "stream",
     "text": [
      "Model hyperparameters:\n",
      "{'bootstrap': True, 'ccp_alpha': 0.0, 'criterion': 'squared_error', 'max_depth': None, 'max_features': 1.0, 'max_leaf_nodes': None, 'max_samples': None, 'min_impurity_decrease': 0.0, 'min_samples_leaf': 1, 'min_samples_split': 2, 'min_weight_fraction_leaf': 0.0, 'n_estimators': 100, 'n_jobs': None, 'oob_score': False, 'random_state': None, 'verbose': 0, 'warm_start': False}\n"
     ]
    }
   ],
   "source": [
    "# 1. Define a new Random Forest model with default parameters\n",
    "from sklearn.ensemble import RandomForestRegressor\n",
    "model = RandomForestRegressor()\n",
    "\n",
    "# Print out the hyperparameters\n",
    "print(\"Model hyperparameters:\")\n",
    "print(model.get_params())"
   ]
  },
  {
   "cell_type": "code",
   "execution_count": 13,
   "metadata": {},
   "outputs": [
    {
     "name": "stdout",
     "output_type": "stream",
     "text": [
      "Test scores: 0.309 ± 0.007\n",
      "Train scores: 0.876 ± 0.002\n"
     ]
    }
   ],
   "source": [
    "# 2. Establish the benchmark using cross-validation\n",
    "from sklearn.model_selection import cross_validate, KFold\n",
    "cv = KFold(n_splits=5, shuffle=True, random_state=10)\n",
    "scores = cross_validate(model, features, target, cv=cv, return_train_score=True)\n",
    "\n",
    "# Print mean and standard deviation of test and train scores\n",
    "print('Test scores: {:.3f} ± {:.3f}'.format(scores['test_score'].mean(), scores['test_score'].std()))\n",
    "print('Train scores: {:.3f} ± {:.3f}'.format(scores['train_score'].mean(), scores['train_score'].std()))"
   ]
  },
  {
   "cell_type": "code",
   "execution_count": 14,
   "metadata": {},
   "outputs": [
    {
     "data": {
      "text/plain": [
       "\"\\nThe model appears to have:\\n- High bias: The test score is relatively low, suggesting the model isn't capturing the underlying patterns well.\\n- Low variance: The difference between train and test scores isn't very large, suggesting the model isn't overfitting.\\n\""
      ]
     },
     "execution_count": 14,
     "metadata": {},
     "output_type": "execute_result"
    }
   ],
   "source": [
    "# 3. Commentary on bias/variance\n",
    "\"\"\"\n",
    "The model appears to have:\n",
    "- Moderate to high bias: The test score of 0.309 is indeed relatively low, suggesting the model isn't fully capturing the underlying patterns in the data.\n",
    "- High variance: There's a significant gap between train scores (0.876) and test scores (0.309). This large difference (0.567) indicates overfitting - the \n",
    "model performs much better on the training data than on unseen data.\n",
    "\n",
    "This pattern is characteristic of a model with high variance rather than low variance. The Random Forest is memorizing the training data (hence the high training score)\n",
    "but failing to generalize well to new data (hence the much lower test score).\n",
    "\"\"\""
   ]
  },
  {
   "cell_type": "code",
   "execution_count": 15,
   "metadata": {},
   "outputs": [],
   "source": [
    "# 4. Generate cross-validated predictions\n",
    "from sklearn.model_selection import cross_val_predict\n",
    "ypred = cross_val_predict(model, features, target, cv=cv)"
   ]
  },
  {
   "cell_type": "code",
   "execution_count": 16,
   "metadata": {},
   "outputs": [
    {
     "data": {
      "image/png": "[encoded data removed]",
      "text/plain": [
       "<Figure size 800x800 with 1 Axes>"
      ]
     },
     "metadata": {},
     "output_type": "display_data"
    }
   ],
   "source": [
    "# 5. Plot scatter graph of Predicted vs True redshift\n",
    "import matplotlib.pyplot as plt\n",
    "\n",
    "plt.figure(figsize=(8, 8))\n",
    "plt.scatter(target, ypred, s=5, alpha=0.5)\n",
    "plt.plot([0, 3], [0, 3], 'r--')  # Add a perfect prediction line\n",
    "plt.xlabel(\"True Redshift (z)\")\n",
    "plt.ylabel(\"Predicted Redshift (z)\")\n",
    "plt.title(\"Predicted vs True Redshift\")\n",
    "plt.xlim(0, 3)\n",
    "plt.ylim(0, 3)\n",
    "plt.grid(True, alpha=0.3)\n",
    "plt.show()"
   ]
  },
  {
   "cell_type": "code",
   "execution_count": 17,
   "metadata": {},
   "outputs": [
    {
     "data": {
      "text/plain": [
       "\"\\nThe plot shows similar trends to the paper's figure, but our model appears to have more scatter,\\nespecially at higher redshift values. The paper achieves σNMAD of around 0.0174 with 4.54% outliers,\\nwhile our model likely has higher error metrics.\\n\""
      ]
     },
     "execution_count": 17,
     "metadata": {},
     "output_type": "execute_result"
    }
   ],
   "source": [
    "# 6. Compare with paper figure\n",
    "\"\"\"\n",
    "The plot shows similar trends to the paper's figure, but our model appears to have more scatter,\n",
    "especially at higher redshift values. The paper achieves σNMAD of around 0.0174 with 4.54% outliers,\n",
    "while our model likely has higher error metrics.\n",
    "\"\"\""
   ]
  },
  {
   "cell_type": "code",
   "execution_count": 18,
   "metadata": {},
   "outputs": [
    {
     "data": {
      "image/png": "[encoded data removed]",
      "text/plain": [
       "<Figure size 1000x600 with 1 Axes>"
      ]
     },
     "metadata": {},
     "output_type": "display_data"
    },
    {
     "name": "stdout",
     "output_type": "stream",
     "text": [
      "Original Test scores: 0.309 ± 0.007\n",
      "Original Train scores: 0.876 ± 0.002\n",
      "Little sample Test scores: 0.278 ± 0.038\n",
      "Little sample Train scores: 0.876 ± 0.003\n",
      "Fitting 5 folds for each of 243 candidates, totalling 1215 fits\n",
      "Best params, best score: 0.2946 {'max_features': 2, 'max_leaf_nodes': None, 'min_impurity_decrease': 0.0, 'min_samples_split': 10, 'n_estimators': 200}\n"
     ]
    },
    {
     "data": {
      "text/html": [
       "<div>\n",
       "<style scoped>\n",
       "    .dataframe tbody tr th:only-of-type {\n",
       "        vertical-align: middle;\n",
       "    }\n",
       "\n",
       "    .dataframe tbody tr th {\n",
       "        vertical-align: top;\n",
       "    }\n",
       "\n",
       "    .dataframe thead th {\n",
       "        text-align: right;\n",
       "    }\n",
       "</style>\n",
       "<table border=\"1\" class=\"dataframe\">\n",
       "  <thead>\n",
       "    <tr style=\"text-align: right;\">\n",
       "      <th></th>\n",
       "      <th>params</th>\n",
       "      <th>mean_test_score</th>\n",
       "      <th>std_test_score</th>\n",
       "      <th>mean_train_score</th>\n",
       "    </tr>\n",
       "  </thead>\n",
       "  <tbody>\n",
       "    <tr>\n",
       "      <th>182</th>\n",
       "      <td>{'max_features': 2, 'max_leaf_nodes': None, 'min_impurity_decrease': 0.0, 'min_samples_split': 1...</td>\n",
       "      <td>0.294575</td>\n",
       "      <td>0.022538</td>\n",
       "      <td>0.725912</td>\n",
       "    </tr>\n",
       "    <tr>\n",
       "      <th>181</th>\n",
       "      <td>{'max_features': 2, 'max_leaf_nodes': None, 'min_impurity_decrease': 0.0, 'min_samples_split': 1...</td>\n",
       "      <td>0.294022</td>\n",
       "      <td>0.017708</td>\n",
       "      <td>0.724286</td>\n",
       "    </tr>\n",
       "    <tr>\n",
       "      <th>104</th>\n",
       "      <td>{'max_features': 4, 'max_leaf_nodes': None, 'min_impurity_decrease': 0.0, 'min_samples_split': 2...</td>\n",
       "      <td>0.293644</td>\n",
       "      <td>0.018128</td>\n",
       "      <td>0.653291</td>\n",
       "    </tr>\n",
       "    <tr>\n",
       "      <th>103</th>\n",
       "      <td>{'max_features': 4, 'max_leaf_nodes': None, 'min_impurity_decrease': 0.0, 'min_samples_split': 2...</td>\n",
       "      <td>0.292975</td>\n",
       "      <td>0.022852</td>\n",
       "      <td>0.648921</td>\n",
       "    </tr>\n",
       "    <tr>\n",
       "      <th>101</th>\n",
       "      <td>{'max_features': 4, 'max_leaf_nodes': None, 'min_impurity_decrease': 0.0, 'min_samples_split': 1...</td>\n",
       "      <td>0.292755</td>\n",
       "      <td>0.020517</td>\n",
       "      <td>0.753032</td>\n",
       "    </tr>\n",
       "  </tbody>\n",
       "</table>\n",
       "</div>"
      ],
      "text/plain": [
       "                                                                                                  params  \\\n",
       "182  {'max_features': 2, 'max_leaf_nodes': None, 'min_impurity_decrease': 0.0, 'min_samples_split': 1...   \n",
       "181  {'max_features': 2, 'max_leaf_nodes': None, 'min_impurity_decrease': 0.0, 'min_samples_split': 1...   \n",
       "104  {'max_features': 4, 'max_leaf_nodes': None, 'min_impurity_decrease': 0.0, 'min_samples_split': 2...   \n",
       "103  {'max_features': 4, 'max_leaf_nodes': None, 'min_impurity_decrease': 0.0, 'min_samples_split': 2...   \n",
       "101  {'max_features': 4, 'max_leaf_nodes': None, 'min_impurity_decrease': 0.0, 'min_samples_split': 1...   \n",
       "\n",
       "     mean_test_score  std_test_score  mean_train_score  \n",
       "182         0.294575        0.022538          0.725912  \n",
       "181         0.294022        0.017708          0.724286  \n",
       "104         0.293644        0.018128          0.653291  \n",
       "103         0.292975        0.022852          0.648921  \n",
       "101         0.292755        0.020517          0.753032  "
      ]
     },
     "execution_count": 18,
     "metadata": {},
     "output_type": "execute_result"
    }
   ],
   "source": [
    "# 7. Plot histograms of predicted and true redshifts\n",
    "plt.figure(figsize=(10, 6))\n",
    "plt.hist(target, bins=30, alpha=0.5, label=\"True z\")\n",
    "plt.hist(ypred, bins=30, alpha=0.5, label=\"Predicted z\")\n",
    "plt.xlabel(\"Redshift (z)\")\n",
    "plt.ylabel(\"Frequency\")\n",
    "plt.title(\"Distribution of True vs Predicted Redshift\")\n",
    "plt.legend()\n",
    "plt.grid(True, alpha=0.3)\n",
    "plt.show()"
   ]
  },
  {
   "cell_type": "code",
   "execution_count": null,
   "metadata": {},
   "outputs": [],
   "source": [
    "\"\"\"\n",
    "Observations on the histograms:\n",
    "\n",
    "-Narrower predicted distribution: The predicted redshift values (orange) have a narrower, more peaked distribution \n",
    "than the true redshift values (blue), which confirms the regression-to-the-mean effect seen in the scatter plot.\n",
    "\n",
    "-Range limitation: The model's predictions are mostly confined to the 0.2-1.5 range, while the true values extend well beyond 2.0.\n",
    "\n",
    "-Missing tails: The model fails to capture both the lower (z < 0.2) and higher (z > 1.5) ends \n",
    "of the true distribution, suggesting difficulty predicting these extreme values.\n",
    "\n",
    "-Peak shift: The predicted distribution's peak is slightly shifted from \n",
    "the true distribution's peak, indicating a systematic bias in the model.\n",
    "\n",
    "-Distribution smoothing: The predicted distribution appears smoother and more symmetrical than the true distribution, \n",
    "which has more distinct features and a longer tail at higher redshifts.\n",
    "\"\"\""
   ]
  },
  {
   "cell_type": "markdown",
   "metadata": {
    "id": "0V77W36MQv19"
   },
   "source": [
    "### Hyperparameter optimisation"
   ]
  },
  {
   "cell_type": "markdown",
   "metadata": {
    "id": "ZbDXjDhRQv19"
   },
   "source": [
    "We can start by making the data set a bit smaller, as we have seen that timings were already challenging in simple k-fold CV."
   ]
  },
  {
   "cell_type": "code",
   "execution_count": 19,
   "metadata": {
    "id": "QoDn2jaxQv1-"
   },
   "outputs": [],
   "source": [
    "np.random.seed(20)\n",
    "sel = np.random.choice(range(len(ypred)), 5000, replace = False) #sample without replacement"
   ]
  },
  {
   "cell_type": "code",
   "execution_count": 20,
   "metadata": {
    "id": "LznFMwt7Qv1-",
    "outputId": "d6b4b347-ad04-46e2-bd63-2bcbb8931b88"
   },
   "outputs": [
    {
     "data": {
      "text/plain": [
       "5000"
      ]
     },
     "execution_count": 20,
     "metadata": {},
     "output_type": "execute_result"
    }
   ],
   "source": [
    "len(np.unique(sel))"
   ]
  },
  {
   "cell_type": "markdown",
   "metadata": {
    "id": "_Ld3W4UOQv1-"
   },
   "source": [
    "And we create our new smaller data set."
   ]
  },
  {
   "cell_type": "code",
   "execution_count": 21,
   "metadata": {
    "id": "O18fZWV5Qv1-"
   },
   "outputs": [],
   "source": [
    "seld = features.loc[sel,:]\n",
    "selt = target[sel]"
   ]
  },
  {
   "cell_type": "markdown",
   "metadata": {
    "id": "jzH4ck7_W1nk"
   },
   "source": [
    "It is good practice to ensure that the performance on the smaller set remains similar to the one obtained on the entire data set, which means that the change in size will not significantly affect the optimization process."
   ]
  },
  {
   "cell_type": "code",
   "execution_count": 22,
   "metadata": {
    "id": "3yPWNGKYQv1-"
   },
   "outputs": [],
   "source": [
    "littlescores = cross_validate(model,seld,selt, cv = KFold(n_splits=5, shuffle=True, random_state=10), return_train_score=True)"
   ]
  },
  {
   "cell_type": "code",
   "execution_count": 23,
   "metadata": {
    "id": "LstMVPAzQv1_",
    "outputId": "54ff87cc-dad7-4ad5-b6fe-807b0a4a7398"
   },
   "outputs": [
    {
     "name": "stdout",
     "output_type": "stream",
     "text": [
      "Original Test scores: 0.309 0.007\n",
      "Original Train scores: 0.876 0.002\n",
      "Little sample Test scores: 0.278 0.038\n",
      "Little sample Train scores: 0.876 0.003\n"
     ]
    }
   ],
   "source": [
    "print('Original Test scores:','{:.3f}'.format(scores['test_score'].mean()), '{:.3f}'.format(scores['test_score'].std()))\n",
    "print('Original Train scores:','{:.3f}'.format(scores['train_score'].mean()), '{:.3f}'.format(scores['train_score'].std()))\n",
    "\n",
    "print('Little sample Test scores:','{:.3f}'.format(littlescores['test_score'].mean()), '{:.3f}'.format(littlescores['test_score'].std()))\n",
    "print('Little sample Train scores:','{:.3f}'.format(littlescores['train_score'].mean()), '{:.3f}'.format(littlescores['train_score'].std()))"
   ]
  },
  {
   "cell_type": "markdown",
   "metadata": {
    "id": "rgU0AJtIQv1_"
   },
   "source": [
    "We are now ready to optimise hyperparameters - what should we choose?\n"
   ]
  },
  {
   "cell_type": "markdown",
   "metadata": {
    "id": "Qx8IihvwQv1_"
   },
   "source": [
    "#### Tree Parameters\n",
    "\n",
    "Some useful parameters associated to a tree are:\n",
    "\n",
    "-  The minimum number of instances in a leaf node;\n",
    "\n",
    "-  The minimum number of instances required in a split node;\n",
    "\n",
    "- The maximum depth of tree;\n",
    "\n",
    "-  The criterion chosen to decide whether a split is \"worth it\", expressed in terms of information gain.\n",
    "\n",
    "\n",
    "#### Randomization Parameters\n",
    "\n",
    "Here we find:\n",
    "\n",
    "- The number of k < n features that are used in building trees;\n",
    "\n",
    "- The re-sampling (boostrap) of the data set (T or F).\n",
    "\n",
    "\n",
    "#### Forest Parameters\n",
    "\n",
    "The number of trees in the forest (n_estimators) can be adjusted, with the general understanding that more trees are better, but at some point performance will plateau, so one can find the trade-off between having more trees and lower runtime."
   ]
  },
  {
   "cell_type": "markdown",
   "metadata": {
    "id": "kUk2q6d4XXrP"
   },
   "source": [
    "We can visualise them like this:"
   ]
  },
  {
   "cell_type": "code",
   "execution_count": 24,
   "metadata": {
    "id": "9CezgP0qQv1_",
    "outputId": "b1192f39-a66c-4f1c-8db5-f3c090ef985e"
   },
   "outputs": [
    {
     "data": {
      "text/plain": [
       "{'bootstrap': True,\n",
       " 'ccp_alpha': 0.0,\n",
       " 'criterion': 'squared_error',\n",
       " 'max_depth': None,\n",
       " 'max_features': 1.0,\n",
       " 'max_leaf_nodes': None,\n",
       " 'max_samples': None,\n",
       " 'min_impurity_decrease': 0.0,\n",
       " 'min_samples_leaf': 1,\n",
       " 'min_samples_split': 2,\n",
       " 'min_weight_fraction_leaf': 0.0,\n",
       " 'n_estimators': 100,\n",
       " 'n_jobs': None,\n",
       " 'oob_score': False,\n",
       " 'random_state': None,\n",
       " 'verbose': 0,\n",
       " 'warm_start': False}"
      ]
     },
     "execution_count": 24,
     "metadata": {},
     "output_type": "execute_result"
    }
   ],
   "source": [
    "model.get_params()"
   ]
  },
  {
   "cell_type": "markdown",
   "metadata": {
    "id": "8wbIVzT7Qv2A"
   },
   "source": [
    "Here below is a possible set; we can run a grid search to look for the best model."
   ]
  },
  {
   "cell_type": "markdown",
   "metadata": {
    "id": "VYGWEz_qQv2A"
   },
   "source": [
    "- min_impurity_decrease \n",
    "\n",
    "- number of trees\n",
    "\n",
    "- max_leaf_nodes\n",
    "\n",
    "- min_samples_split\n",
    "\n",
    "- max_features"
   ]
  },
  {
   "cell_type": "code",
   "execution_count": 25,
   "metadata": {
    "id": "bi1FmG7pQv2B",
    "outputId": "0ac959f4-be3c-43e0-dd4f-7f56cff91ac3"
   },
   "outputs": [
    {
     "name": "stdout",
     "output_type": "stream",
     "text": [
      "Fitting 5 folds for each of 243 candidates, totalling 1215 fits\n",
      "Best params, best score: 0.2943 {'max_features': 4, 'max_leaf_nodes': None, 'min_impurity_decrease': 0.0, 'min_samples_split': 10, 'n_estimators': 200}\n"
     ]
    }
   ],
   "source": [
    "#Takes roughly 5-8 mins\n",
    "\n",
    "parameters = {'min_impurity_decrease':[0.1, 0.5, 0.0], \\\n",
    "              'max_features':[None,4,2], 'n_estimators':[50, 100, 200], 'min_samples_split': [10,20,100], \n",
    "              'max_leaf_nodes':[None, 100, 200]}\n",
    "nmodels = np.product([len(el) for el in parameters.values()])\n",
    "model = GridSearchCV(RandomForestRegressor(), parameters, cv = KFold(n_splits=5, shuffle=True), \\\n",
    "                     verbose = 1, n_jobs = 4, return_train_score=True)\n",
    "model.fit(seld,selt)\n",
    "\n",
    "print('Best params, best score:', \"{:.4f}\".format(model.best_score_), \\\n",
    "      model.best_params_)"
   ]
  },
  {
   "cell_type": "markdown",
   "metadata": {
    "id": "ZGcU8HO-Z5UF"
   },
   "source": [
    "As usual, we save the results in a data frame, and look at the best models to build some intution."
   ]
  },
  {
   "cell_type": "code",
   "execution_count": 26,
   "metadata": {
    "id": "Z8vzC3wyQv2B"
   },
   "outputs": [],
   "source": [
    "scores = pd.DataFrame(model.cv_results_)\n",
    "scoresCV = scores[['params','mean_test_score','std_test_score','mean_train_score']].sort_values(by = 'mean_test_score', \\\n",
    "                                                    ascending = False)\n"
   ]
  },
  {
   "cell_type": "code",
   "execution_count": 27,
   "metadata": {
    "id": "ZvQOiu2QQv2B",
    "outputId": "71dd18d7-b3bd-4acf-edb6-91048888b7cf"
   },
   "outputs": [
    {
     "data": {
      "text/html": [
       "<div>\n",
       "<style scoped>\n",
       "    .dataframe tbody tr th:only-of-type {\n",
       "        vertical-align: middle;\n",
       "    }\n",
       "\n",
       "    .dataframe tbody tr th {\n",
       "        vertical-align: top;\n",
       "    }\n",
       "\n",
       "    .dataframe thead th {\n",
       "        text-align: right;\n",
       "    }\n",
       "</style>\n",
       "<table border=\"1\" class=\"dataframe\">\n",
       "  <thead>\n",
       "    <tr style=\"text-align: right;\">\n",
       "      <th></th>\n",
       "      <th>params</th>\n",
       "      <th>mean_test_score</th>\n",
       "      <th>std_test_score</th>\n",
       "      <th>mean_train_score</th>\n",
       "    </tr>\n",
       "  </thead>\n",
       "  <tbody>\n",
       "    <tr>\n",
       "      <th>101</th>\n",
       "      <td>{'max_features': 4, 'max_leaf_nodes': None, 'min_impurity_decrease': 0.0, 'min_samples_split': 1...</td>\n",
       "      <td>0.294286</td>\n",
       "      <td>0.018849</td>\n",
       "      <td>0.752460</td>\n",
       "    </tr>\n",
       "    <tr>\n",
       "      <th>182</th>\n",
       "      <td>{'max_features': 2, 'max_leaf_nodes': None, 'min_impurity_decrease': 0.0, 'min_samples_split': 1...</td>\n",
       "      <td>0.293963</td>\n",
       "      <td>0.018742</td>\n",
       "      <td>0.725343</td>\n",
       "    </tr>\n",
       "    <tr>\n",
       "      <th>104</th>\n",
       "      <td>{'max_features': 4, 'max_leaf_nodes': None, 'min_impurity_decrease': 0.0, 'min_samples_split': 2...</td>\n",
       "      <td>0.292745</td>\n",
       "      <td>0.020915</td>\n",
       "      <td>0.652359</td>\n",
       "    </tr>\n",
       "    <tr>\n",
       "      <th>158</th>\n",
       "      <td>{'max_features': 4, 'max_leaf_nodes': 200, 'min_impurity_decrease': 0.0, 'min_samples_split': 20...</td>\n",
       "      <td>0.292064</td>\n",
       "      <td>0.018982</td>\n",
       "      <td>0.627317</td>\n",
       "    </tr>\n",
       "    <tr>\n",
       "      <th>180</th>\n",
       "      <td>{'max_features': 2, 'max_leaf_nodes': None, 'min_impurity_decrease': 0.0, 'min_samples_split': 1...</td>\n",
       "      <td>0.291409</td>\n",
       "      <td>0.012219</td>\n",
       "      <td>0.720222</td>\n",
       "    </tr>\n",
       "    <tr>\n",
       "      <th>...</th>\n",
       "      <td>...</td>\n",
       "      <td>...</td>\n",
       "      <td>...</td>\n",
       "      <td>...</td>\n",
       "    </tr>\n",
       "    <tr>\n",
       "      <th>204</th>\n",
       "      <td>{'max_features': 2, 'max_leaf_nodes': 100, 'min_impurity_decrease': 0.5, 'min_samples_split': 10...</td>\n",
       "      <td>-0.000100</td>\n",
       "      <td>0.000072</td>\n",
       "      <td>-0.000009</td>\n",
       "    </tr>\n",
       "    <tr>\n",
       "      <th>6</th>\n",
       "      <td>{'max_features': None, 'max_leaf_nodes': None, 'min_impurity_decrease': 0.1, 'min_samples_split'...</td>\n",
       "      <td>-0.000105</td>\n",
       "      <td>0.000084</td>\n",
       "      <td>-0.000006</td>\n",
       "    </tr>\n",
       "    <tr>\n",
       "      <th>42</th>\n",
       "      <td>{'max_features': None, 'max_leaf_nodes': 100, 'min_impurity_decrease': 0.5, 'min_samples_split':...</td>\n",
       "      <td>-0.000119</td>\n",
       "      <td>0.000100</td>\n",
       "      <td>-0.000022</td>\n",
       "    </tr>\n",
       "    <tr>\n",
       "      <th>69</th>\n",
       "      <td>{'max_features': None, 'max_leaf_nodes': 200, 'min_impurity_decrease': 0.5, 'min_samples_split':...</td>\n",
       "      <td>-0.000122</td>\n",
       "      <td>0.000104</td>\n",
       "      <td>-0.000008</td>\n",
       "    </tr>\n",
       "    <tr>\n",
       "      <th>195</th>\n",
       "      <td>{'max_features': 2, 'max_leaf_nodes': 100, 'min_impurity_decrease': 0.1, 'min_samples_split': 10...</td>\n",
       "      <td>-0.000131</td>\n",
       "      <td>0.000130</td>\n",
       "      <td>-0.000016</td>\n",
       "    </tr>\n",
       "  </tbody>\n",
       "</table>\n",
       "<p>243 rows × 4 columns</p>\n",
       "</div>"
      ],
      "text/plain": [
       "                                                                                                  params  \\\n",
       "101  {'max_features': 4, 'max_leaf_nodes': None, 'min_impurity_decrease': 0.0, 'min_samples_split': 1...   \n",
       "182  {'max_features': 2, 'max_leaf_nodes': None, 'min_impurity_decrease': 0.0, 'min_samples_split': 1...   \n",
       "104  {'max_features': 4, 'max_leaf_nodes': None, 'min_impurity_decrease': 0.0, 'min_samples_split': 2...   \n",
       "158  {'max_features': 4, 'max_leaf_nodes': 200, 'min_impurity_decrease': 0.0, 'min_samples_split': 20...   \n",
       "180  {'max_features': 2, 'max_leaf_nodes': None, 'min_impurity_decrease': 0.0, 'min_samples_split': 1...   \n",
       "..                                                                                                   ...   \n",
       "204  {'max_features': 2, 'max_leaf_nodes': 100, 'min_impurity_decrease': 0.5, 'min_samples_split': 10...   \n",
       "6    {'max_features': None, 'max_leaf_nodes': None, 'min_impurity_decrease': 0.1, 'min_samples_split'...   \n",
       "42   {'max_features': None, 'max_leaf_nodes': 100, 'min_impurity_decrease': 0.5, 'min_samples_split':...   \n",
       "69   {'max_features': None, 'max_leaf_nodes': 200, 'min_impurity_decrease': 0.5, 'min_samples_split':...   \n",
       "195  {'max_features': 2, 'max_leaf_nodes': 100, 'min_impurity_decrease': 0.1, 'min_samples_split': 10...   \n",
       "\n",
       "     mean_test_score  std_test_score  mean_train_score  \n",
       "101         0.294286        0.018849          0.752460  \n",
       "182         0.293963        0.018742          0.725343  \n",
       "104         0.292745        0.020915          0.652359  \n",
       "158         0.292064        0.018982          0.627317  \n",
       "180         0.291409        0.012219          0.720222  \n",
       "..               ...             ...               ...  \n",
       "204        -0.000100        0.000072         -0.000009  \n",
       "6          -0.000105        0.000084         -0.000006  \n",
       "42         -0.000119        0.000100         -0.000022  \n",
       "69         -0.000122        0.000104         -0.000008  \n",
       "195        -0.000131        0.000130         -0.000016  \n",
       "\n",
       "[243 rows x 4 columns]"
      ]
     },
     "execution_count": 27,
     "metadata": {},
     "output_type": "execute_result"
    }
   ],
   "source": [
    "scoresCV"
   ]
  },
  {
   "cell_type": "markdown",
   "metadata": {
    "id": "vaPY_68QQv2B"
   },
   "source": [
    "### And the verdict is....We have NOT improved the test scores."
   ]
  },
  {
   "cell_type": "markdown",
   "metadata": {
    "id": "0zxsWtClQv2C"
   },
   "source": [
    "<div style=\"background-color:#C2F5DD\">\n",
    "\n",
    "## Exercise 2\n",
    "1. Define a new dataframe keeping the features in `features` but also the `subaru_source`,`cfhtls_source`,`zquality`. *Shape should be (23822, 9)*\n",
    "2. Apply a redshift quality cut (only keep objects with high-quality spectroscopic redshift measuremens - higher or equal to 3). *Shape should be (16857, 9)*\n",
    "3. Select objects with `cfhtls_source` equal to 0. *Shape should be (10671, 9)*\n",
    "4. Remove unavailable measurements (marked as -99 and +99). *Shape should be (6307, 9)*\n",
    "5. Now drop the additional columns we added in point 1. Call this new data frame `sel_features` (we will use this throughout the notebook!)  *Shape should be (6307, 6)*\n",
    "6. Define a new target variable (called `sel_target` - we will use it throughout the notebook) referred to the new dataframe. *Hint: you will need to use the indeces of the new dataframe*\n",
    "7. Run the `cross_validate` as using a `RandomForestRegressor(random_state=5)` and the new dataframe (should take less than 1 min).\n",
    "8. Comment on the new performance: high/low bias? high/low variance?"
   ]
  },
  {
   "cell_type": "code",
   "execution_count": 28,
   "metadata": {},
   "outputs": [
    {
     "name": "stdout",
     "output_type": "stream",
     "text": [
      "Shape after adding columns: (23822, 9)\n"
     ]
    }
   ],
   "source": [
    "# 1. Create new dataframe with additional columns\n",
    "extended_features = features.copy()\n",
    "extended_features['subaru_source'] = df['subaru_source']\n",
    "extended_features['cfhtls_source'] = df['cfhtls_source'] \n",
    "extended_features['zquality'] = df['zquality']\n",
    "print(\"Shape after adding columns:\", extended_features.shape)  # Should be (23822, 9)"
   ]
  },
  {
   "cell_type": "code",
   "execution_count": 29,
   "metadata": {},
   "outputs": [
    {
     "name": "stdout",
     "output_type": "stream",
     "text": [
      "Shape after quality cut: (16857, 9)\n"
     ]
    }
   ],
   "source": [
    "# 2. Apply redshift quality cut (≥ 3)\n",
    "quality_mask = df['zquality'] >= 3\n",
    "quality_features = extended_features[quality_mask]\n",
    "quality_target = target[quality_mask]\n",
    "print(\"Shape after quality cut:\", quality_features.shape)  # Should be (16857, 9)"
   ]
  },
  {
   "cell_type": "code",
   "execution_count": 30,
   "metadata": {},
   "outputs": [
    {
     "name": "stdout",
     "output_type": "stream",
     "text": [
      "Shape after cfhtls filter: (10671, 9)\n"
     ]
    }
   ],
   "source": [
    "# 3. Select objects with cfhtls_source == 0\n",
    "cfhtls_mask = quality_features['cfhtls_source'] == 0\n",
    "filtered_features = quality_features[cfhtls_mask]\n",
    "filtered_target = quality_target[cfhtls_mask]\n",
    "print(\"Shape after cfhtls filter:\", filtered_features.shape)  # Should be (10671, 9)"
   ]
  },
  {
   "cell_type": "code",
   "execution_count": 31,
   "metadata": {},
   "outputs": [
    {
     "name": "stdout",
     "output_type": "stream",
     "text": [
      "Shape after removing invalid measurements: (6307, 9)\n"
     ]
    }
   ],
   "source": [
    "# 4. Remove unavailable measurements (-99 and 99)\n",
    "# Create a mask for valid measurements (not -99 or 99)\n",
    "cols_to_check = ['u_apercor', 'g_apercor', 'r_apercor', 'i_apercor', 'z_apercor', 'y_apercor']\n",
    "valid_data_mask = ~(\n",
    "    (filtered_features[cols_to_check] == -99).any(axis=1) | \n",
    "    (filtered_features[cols_to_check] == 99).any(axis=1)\n",
    ")\n",
    "clean_features = filtered_features[valid_data_mask]\n",
    "clean_target = filtered_target[valid_data_mask]\n",
    "print(\"Shape after removing invalid measurements:\", clean_features.shape)  # Should be (6307, 9)\n"
   ]
  },
  {
   "cell_type": "code",
   "execution_count": 32,
   "metadata": {},
   "outputs": [
    {
     "name": "stdout",
     "output_type": "stream",
     "text": [
      "Shape of final features: (6307, 6)\n"
     ]
    }
   ],
   "source": [
    "# 5. Drop the additional columns\n",
    "sel_features = clean_features[cols_to_check]\n",
    "print(\"Shape of final features:\", sel_features.shape)  # Should be (6307, 6)"
   ]
  },
  {
   "cell_type": "code",
   "execution_count": 33,
   "metadata": {},
   "outputs": [
    {
     "name": "stdout",
     "output_type": "stream",
     "text": [
      "Length of target: 6307\n"
     ]
    }
   ],
   "source": [
    "# 6. Define new target variable\n",
    "sel_target = clean_target\n",
    "print(\"Length of target:\", len(sel_target))  # Should be 6307"
   ]
  },
  {
   "cell_type": "code",
   "execution_count": 34,
   "metadata": {},
   "outputs": [
    {
     "name": "stdout",
     "output_type": "stream",
     "text": [
      "New Test scores: 0.746 ± 0.106\n",
      "New Train scores: 0.963 ± 0.005\n"
     ]
    }
   ],
   "source": [
    "# 7. Run cross-validation on the new dataset\n",
    "model = RandomForestRegressor(random_state=5)\n",
    "sel_scores = cross_validate(model, sel_features, sel_target, cv=cv, return_train_score=True)\n",
    "\n",
    "print('New Test scores: {:.3f} ± {:.3f}'.format(sel_scores['test_score'].mean(), sel_scores['test_score'].std()))\n",
    "print('New Train scores: {:.3f} ± {:.3f}'.format(sel_scores['train_score'].mean(), sel_scores['train_score'].std()))"
   ]
  },
  {
   "cell_type": "code",
   "execution_count": 35,
   "metadata": {},
   "outputs": [
    {
     "data": {
      "text/plain": [
       "'\\nCommentary on new performance:\\n- The test score has improved significantly after data cleaning, indicating lower bias\\n- The gap between train and test scores remains reasonable, suggesting controlled variance\\n- The data cleaning steps have successfully removed problematic samples that were making\\n  it difficult for the model to learn the underlying patterns\\n'"
      ]
     },
     "execution_count": 35,
     "metadata": {},
     "output_type": "execute_result"
    }
   ],
   "source": [
    "# 8. Analysis of new performance\n",
    "\"\"\"\n",
    "Commentary on new performance:\n",
    "- The test score has improved significantly after data cleaning, indicating lower bias\n",
    "- The gap between train and test scores remains substantial (0.217), indicating the model is still overfitting somewhat.\n",
    "- The data cleaning steps have successfully removed problematic samples that were making\n",
    "  it difficult for the model to learn the underlying patterns\n",
    "\"\"\""
   ]
  },
  {
   "cell_type": "markdown",
   "metadata": {},
   "source": [
    "<div style=\"background-color:#C2F5DD\">\n",
    "\n",
    "## Exercise 3\n",
    "1. Re-run the hyperparameter search as above using `RandomForestRegressor(random_state=5)` and the new dataframe (should take 3-4 mins).\n",
    "2. Inspect the train and test scores, have they improved?\n",
    "3. Get the best model and generate cross-validated predictions using cross_val_predict (it should take less than 1 min).\n",
    "4. Plot a scatter graph of the Predicted z vs True (spectroscopic) z.\n",
    "5. Does it look like the one in the paper now?\n"
   ]
  },
  {
   "cell_type": "code",
   "execution_count": 36,
   "metadata": {},
   "outputs": [
    {
     "name": "stdout",
     "output_type": "stream",
     "text": [
      "Fitting 5 folds for each of 243 candidates, totalling 1215 fits\n"
     ]
    },
    {
     "data": {
      "text/html": [
       "<style>#sk-container-id-1 {color: black;}#sk-container-id-1 pre{padding: 0;}#sk-container-id-1 div.sk-toggleable {background-color: white;}#sk-container-id-1 label.sk-toggleable__label {cursor: pointer;display: block;width: 100%;margin-bottom: 0;padding: 0.3em;box-sizing: border-box;text-align: center;}#sk-container-id-1 label.sk-toggleable__label-arrow:before {content: \"▸\";float: left;margin-right: 0.25em;color: #696969;}#sk-container-id-1 label.sk-toggleable__label-arrow:hover:before {color: black;}#sk-container-id-1 div.sk-estimator:hover label.sk-toggleable__label-arrow:before {color: black;}#sk-container-id-1 div.sk-toggleable__content {max-height: 0;max-width: 0;overflow: hidden;text-align: left;background-color: #f0f8ff;}#sk-container-id-1 div.sk-toggleable__content pre {margin: 0.2em;color: black;border-radius: 0.25em;background-color: #f0f8ff;}#sk-container-id-1 input.sk-toggleable__control:checked~div.sk-toggleable__content {max-height: 200px;max-width: 100%;overflow: auto;}#sk-container-id-1 input.sk-toggleable__control:checked~label.sk-toggleable__label-arrow:before {content: \"▾\";}#sk-container-id-1 div.sk-estimator input.sk-toggleable__control:checked~label.sk-toggleable__label {background-color: #d4ebff;}#sk-container-id-1 div.sk-label input.sk-toggleable__control:checked~label.sk-toggleable__label {background-color: #d4ebff;}#sk-container-id-1 input.sk-hidden--visually {border: 0;clip: rect(1px 1px 1px 1px);clip: rect(1px, 1px, 1px, 1px);height: 1px;margin: -1px;overflow: hidden;padding: 0;position: absolute;width: 1px;}#sk-container-id-1 div.sk-estimator {font-family: monospace;background-color: #f0f8ff;border: 1px dotted black;border-radius: 0.25em;box-sizing: border-box;margin-bottom: 0.5em;}#sk-container-id-1 div.sk-estimator:hover {background-color: #d4ebff;}#sk-container-id-1 div.sk-parallel-item::after {content: \"\";width: 100%;border-bottom: 1px solid gray;flex-grow: 1;}#sk-container-id-1 div.sk-label:hover label.sk-toggleable__label {background-color: #d4ebff;}#sk-container-id-1 div.sk-serial::before {content: \"\";position: absolute;border-left: 1px solid gray;box-sizing: border-box;top: 0;bottom: 0;left: 50%;z-index: 0;}#sk-container-id-1 div.sk-serial {display: flex;flex-direction: column;align-items: center;background-color: white;padding-right: 0.2em;padding-left: 0.2em;position: relative;}#sk-container-id-1 div.sk-item {position: relative;z-index: 1;}#sk-container-id-1 div.sk-parallel {display: flex;align-items: stretch;justify-content: center;background-color: white;position: relative;}#sk-container-id-1 div.sk-item::before, #sk-container-id-1 div.sk-parallel-item::before {content: \"\";position: absolute;border-left: 1px solid gray;box-sizing: border-box;top: 0;bottom: 0;left: 50%;z-index: -1;}#sk-container-id-1 div.sk-parallel-item {display: flex;flex-direction: column;z-index: 1;position: relative;background-color: white;}#sk-container-id-1 div.sk-parallel-item:first-child::after {align-self: flex-end;width: 50%;}#sk-container-id-1 div.sk-parallel-item:last-child::after {align-self: flex-start;width: 50%;}#sk-container-id-1 div.sk-parallel-item:only-child::after {width: 0;}#sk-container-id-1 div.sk-dashed-wrapped {border: 1px dashed gray;margin: 0 0.4em 0.5em 0.4em;box-sizing: border-box;padding-bottom: 0.4em;background-color: white;}#sk-container-id-1 div.sk-label label {font-family: monospace;font-weight: bold;display: inline-block;line-height: 1.2em;}#sk-container-id-1 div.sk-label-container {text-align: center;}#sk-container-id-1 div.sk-container {/* jupyter's `normalize.less` sets `[hidden] { display: none; }` but bootstrap.min.css set `[hidden] { display: none !important; }` so we also need the `!important` here to be able to override the default hidden behavior on the sphinx rendered scikit-learn.org. See: https://github.com/scikit-learn/scikit-learn/issues/21755 */display: inline-block !important;position: relative;}#sk-container-id-1 div.sk-text-repr-fallback {display: none;}</style><div id=\"sk-container-id-1\" class=\"sk-top-container\"><div class=\"sk-text-repr-fallback\"><pre>GridSearchCV(cv=KFold(n_splits=5, random_state=5, shuffle=True),\n",
       "             estimator=RandomForestRegressor(random_state=5), n_jobs=4,\n",
       "             param_grid={&#x27;max_features&#x27;: [None, 4, 2],\n",
       "                         &#x27;max_leaf_nodes&#x27;: [None, 100, 200],\n",
       "                         &#x27;min_impurity_decrease&#x27;: [0.1, 0.5, 0.0],\n",
       "                         &#x27;min_samples_split&#x27;: [10, 20, 100],\n",
       "                         &#x27;n_estimators&#x27;: [50, 100, 200]},\n",
       "             return_train_score=True, verbose=1)</pre><b>In a Jupyter environment, please rerun this cell to show the HTML representation or trust the notebook. <br />On GitHub, the HTML representation is unable to render, please try loading this page with nbviewer.org.</b></div><div class=\"sk-container\" hidden><div class=\"sk-item sk-dashed-wrapped\"><div class=\"sk-label-container\"><div class=\"sk-label sk-toggleable\"><input class=\"sk-toggleable__control sk-hidden--visually\" id=\"sk-estimator-id-1\" type=\"checkbox\" ><label for=\"sk-estimator-id-1\" class=\"sk-toggleable__label sk-toggleable__label-arrow\">GridSearchCV</label><div class=\"sk-toggleable__content\"><pre>GridSearchCV(cv=KFold(n_splits=5, random_state=5, shuffle=True),\n",
       "             estimator=RandomForestRegressor(random_state=5), n_jobs=4,\n",
       "             param_grid={&#x27;max_features&#x27;: [None, 4, 2],\n",
       "                         &#x27;max_leaf_nodes&#x27;: [None, 100, 200],\n",
       "                         &#x27;min_impurity_decrease&#x27;: [0.1, 0.5, 0.0],\n",
       "                         &#x27;min_samples_split&#x27;: [10, 20, 100],\n",
       "                         &#x27;n_estimators&#x27;: [50, 100, 200]},\n",
       "             return_train_score=True, verbose=1)</pre></div></div></div><div class=\"sk-parallel\"><div class=\"sk-parallel-item\"><div class=\"sk-item\"><div class=\"sk-label-container\"><div class=\"sk-label sk-toggleable\"><input class=\"sk-toggleable__control sk-hidden--visually\" id=\"sk-estimator-id-2\" type=\"checkbox\" ><label for=\"sk-estimator-id-2\" class=\"sk-toggleable__label sk-toggleable__label-arrow\">estimator: RandomForestRegressor</label><div class=\"sk-toggleable__content\"><pre>RandomForestRegressor(random_state=5)</pre></div></div></div><div class=\"sk-serial\"><div class=\"sk-item\"><div class=\"sk-estimator sk-toggleable\"><input class=\"sk-toggleable__control sk-hidden--visually\" id=\"sk-estimator-id-3\" type=\"checkbox\" ><label for=\"sk-estimator-id-3\" class=\"sk-toggleable__label sk-toggleable__label-arrow\">RandomForestRegressor</label><div class=\"sk-toggleable__content\"><pre>RandomForestRegressor(random_state=5)</pre></div></div></div></div></div></div></div></div></div></div>"
      ],
      "text/plain": [
       "GridSearchCV(cv=KFold(n_splits=5, random_state=5, shuffle=True),\n",
       "             estimator=RandomForestRegressor(random_state=5), n_jobs=4,\n",
       "             param_grid={'max_features': [None, 4, 2],\n",
       "                         'max_leaf_nodes': [None, 100, 200],\n",
       "                         'min_impurity_decrease': [0.1, 0.5, 0.0],\n",
       "                         'min_samples_split': [10, 20, 100],\n",
       "                         'n_estimators': [50, 100, 200]},\n",
       "             return_train_score=True, verbose=1)"
      ]
     },
     "execution_count": 36,
     "metadata": {},
     "output_type": "execute_result"
    }
   ],
   "source": [
    "# 1. Re-run hyperparameter search on cleaned data\n",
    "parameters = {\n",
    "    'min_impurity_decrease': [0.1, 0.5, 0.0],\n",
    "    'max_features': [None, 4, 2],\n",
    "    'n_estimators': [50, 100, 200],\n",
    "    'min_samples_split': [10, 20, 100],\n",
    "    'max_leaf_nodes': [None, 100, 200]\n",
    "}\n",
    "\n",
    "grid_model = GridSearchCV(\n",
    "    RandomForestRegressor(random_state=5), \n",
    "    parameters, \n",
    "    cv=KFold(n_splits=5, shuffle=True, random_state=5), \n",
    "    verbose=1, \n",
    "    n_jobs=4, \n",
    "    return_train_score=True\n",
    ")\n",
    "grid_model.fit(sel_features, sel_target)"
   ]
  },
  {
   "cell_type": "code",
   "execution_count": 37,
   "metadata": {},
   "outputs": [
    {
     "name": "stdout",
     "output_type": "stream",
     "text": [
      "Best params, best score: 0.7444 {'max_features': 4, 'max_leaf_nodes': None, 'min_impurity_decrease': 0.0, 'min_samples_split': 10, 'n_estimators': 200}\n"
     ]
    },
    {
     "data": {
      "text/html": [
       "<div>\n",
       "<style scoped>\n",
       "    .dataframe tbody tr th:only-of-type {\n",
       "        vertical-align: middle;\n",
       "    }\n",
       "\n",
       "    .dataframe tbody tr th {\n",
       "        vertical-align: top;\n",
       "    }\n",
       "\n",
       "    .dataframe thead th {\n",
       "        text-align: right;\n",
       "    }\n",
       "</style>\n",
       "<table border=\"1\" class=\"dataframe\">\n",
       "  <thead>\n",
       "    <tr style=\"text-align: right;\">\n",
       "      <th></th>\n",
       "      <th>params</th>\n",
       "      <th>mean_test_score</th>\n",
       "      <th>std_test_score</th>\n",
       "      <th>mean_train_score</th>\n",
       "    </tr>\n",
       "  </thead>\n",
       "  <tbody>\n",
       "    <tr>\n",
       "      <th>101</th>\n",
       "      <td>{'max_features': 4, 'max_leaf_nodes': None, 'min_impurity_decrease': 0.0, 'min_samples_split': 1...</td>\n",
       "      <td>0.744442</td>\n",
       "      <td>0.033676</td>\n",
       "      <td>0.926922</td>\n",
       "    </tr>\n",
       "    <tr>\n",
       "      <th>20</th>\n",
       "      <td>{'max_features': None, 'max_leaf_nodes': None, 'min_impurity_decrease': 0.0, 'min_samples_split'...</td>\n",
       "      <td>0.744208</td>\n",
       "      <td>0.035413</td>\n",
       "      <td>0.930845</td>\n",
       "    </tr>\n",
       "    <tr>\n",
       "      <th>99</th>\n",
       "      <td>{'max_features': 4, 'max_leaf_nodes': None, 'min_impurity_decrease': 0.0, 'min_samples_split': 1...</td>\n",
       "      <td>0.743929</td>\n",
       "      <td>0.031841</td>\n",
       "      <td>0.924030</td>\n",
       "    </tr>\n",
       "    <tr>\n",
       "      <th>19</th>\n",
       "      <td>{'max_features': None, 'max_leaf_nodes': None, 'min_impurity_decrease': 0.0, 'min_samples_split'...</td>\n",
       "      <td>0.743502</td>\n",
       "      <td>0.036409</td>\n",
       "      <td>0.930029</td>\n",
       "    </tr>\n",
       "    <tr>\n",
       "      <th>18</th>\n",
       "      <td>{'max_features': None, 'max_leaf_nodes': None, 'min_impurity_decrease': 0.0, 'min_samples_split'...</td>\n",
       "      <td>0.743276</td>\n",
       "      <td>0.034271</td>\n",
       "      <td>0.928042</td>\n",
       "    </tr>\n",
       "  </tbody>\n",
       "</table>\n",
       "</div>"
      ],
      "text/plain": [
       "                                                                                                  params  \\\n",
       "101  {'max_features': 4, 'max_leaf_nodes': None, 'min_impurity_decrease': 0.0, 'min_samples_split': 1...   \n",
       "20   {'max_features': None, 'max_leaf_nodes': None, 'min_impurity_decrease': 0.0, 'min_samples_split'...   \n",
       "99   {'max_features': 4, 'max_leaf_nodes': None, 'min_impurity_decrease': 0.0, 'min_samples_split': 1...   \n",
       "19   {'max_features': None, 'max_leaf_nodes': None, 'min_impurity_decrease': 0.0, 'min_samples_split'...   \n",
       "18   {'max_features': None, 'max_leaf_nodes': None, 'min_impurity_decrease': 0.0, 'min_samples_split'...   \n",
       "\n",
       "     mean_test_score  std_test_score  mean_train_score  \n",
       "101         0.744442        0.033676          0.926922  \n",
       "20          0.744208        0.035413          0.930845  \n",
       "99          0.743929        0.031841          0.924030  \n",
       "19          0.743502        0.036409          0.930029  \n",
       "18          0.743276        0.034271          0.928042  "
      ]
     },
     "execution_count": 37,
     "metadata": {},
     "output_type": "execute_result"
    }
   ],
   "source": [
    "# 2. Inspect scores\n",
    "print('Best params, best score:', \"{:.4f}\".format(grid_model.best_score_), grid_model.best_params_)\n",
    "scores_df = pd.DataFrame(grid_model.cv_results_)\n",
    "scoresCV = scores_df[['params', 'mean_test_score', 'std_test_score', 'mean_train_score']].sort_values(\n",
    "    by='mean_test_score', ascending=False\n",
    ")\n",
    "scoresCV.head()"
   ]
  },
  {
   "cell_type": "code",
   "execution_count": null,
   "metadata": {},
   "outputs": [],
   "source": [
    "# scores haven't really improved"
   ]
  },
  {
   "cell_type": "code",
   "execution_count": 38,
   "metadata": {},
   "outputs": [],
   "source": [
    "# 3. Generate predictions with best model\n",
    "best_model = RandomForestRegressor(\n",
    "    random_state=5,\n",
    "    **grid_model.best_params_\n",
    ")\n",
    "best_ypred = cross_val_predict(best_model, sel_features, sel_target, \n",
    "                              cv=KFold(n_splits=5, shuffle=True, random_state=5))"
   ]
  },
  {
   "cell_type": "code",
   "execution_count": 39,
   "metadata": {},
   "outputs": [
    {
     "data": {
      "image/png": "[encoded data removed]",
      "text/plain": [
       "<Figure size 800x800 with 1 Axes>"
      ]
     },
     "metadata": {},
     "output_type": "display_data"
    }
   ],
   "source": [
    "# 4. Plot scatter graph of Predicted vs True redshift\n",
    "plt.figure(figsize=(8, 8))\n",
    "plt.scatter(sel_target, best_ypred, s=5, alpha=0.5)\n",
    "plt.plot([0, 3], [0, 3], 'r--')  # Add a perfect prediction line\n",
    "plt.xlabel(\"True Redshift (z)\")\n",
    "plt.ylabel(\"Predicted Redshift (z)\")\n",
    "plt.title(\"Optimized Model: Predicted vs True Redshift\")\n",
    "plt.xlim(0, 3)\n",
    "plt.ylim(0, 3)\n",
    "plt.grid(True, alpha=0.3)\n",
    "plt.show()"
   ]
  },
  {
   "cell_type": "code",
   "execution_count": 40,
   "metadata": {},
   "outputs": [
    {
     "data": {
      "text/plain": [
       "\"\\nThe optimized model's predictions now look much more similar to the paper's figure:\\n- The predictions follow the 1:1 line more closely\\n- There's less scatter, especially at higher redshifts\\n- The error metrics are likely closer to those reported in the paper\\n- The data cleaning steps were crucial for improving model performance\\n\""
      ]
     },
     "execution_count": 40,
     "metadata": {},
     "output_type": "execute_result"
    }
   ],
   "source": [
    "# 5. Compare with paper\n",
    "\"\"\"\n",
    "The optimized model's predictions now look much more similar to the paper's figure:\n",
    "- The predictions follow the 1:1 line more closely\n",
    "- There's less scatter overall\n",
    "- The error metrics are likely closer to those reported in the paper\n",
    "- The data cleaning steps were crucial for improving model performance\n",
    "\"\"\""
   ]
  },
  {
   "cell_type": "markdown",
   "metadata": {
    "id": "U73xI_PhhOKG"
   },
   "source": [
    "<hr style=\"border:2px solid gray\">\n",
    "\n",
    "## Boosting Decisions <a id='boosting'></a>\n"
   ]
  },
  {
   "cell_type": "markdown",
   "metadata": {
    "id": "hlS9qVwEhOKL"
   },
   "source": [
    "We can try our usual benchmarking with AdaBoost, using default values."
   ]
  },
  {
   "cell_type": "code",
   "execution_count": 41,
   "metadata": {
    "id": "reNMJb7KhOKL"
   },
   "outputs": [],
   "source": [
    "model = AdaBoostRegressor()"
   ]
  },
  {
   "cell_type": "code",
   "execution_count": 42,
   "metadata": {
    "id": "riKoe2NDhOKL"
   },
   "outputs": [],
   "source": [
    "ypred = cross_val_predict(model, sel_features,sel_target.values.ravel(), cv = KFold(n_splits=5, shuffle=True, random_state=10))"
   ]
  },
  {
   "cell_type": "code",
   "execution_count": 43,
   "metadata": {
    "id": "I30XsaeGhOKL",
    "outputId": "b7b2ef17-25ab-4fdd-b2b0-7994500751bd"
   },
   "outputs": [
    {
     "data": {
      "text/plain": [
       "(0.0, 3.0)"
      ]
     },
     "execution_count": 43,
     "metadata": {},
     "output_type": "execute_result"
    },
    {
     "data": {
      "image/png": "[encoded data removed]",
      "text/plain": [
       "<Figure size 700x700 with 1 Axes>"
      ]
     },
     "metadata": {},
     "output_type": "display_data"
    }
   ],
   "source": [
    "plt.figure(figsize=(7,7))\n",
    "plt.scatter(sel_target,ypred, s =10)\n",
    "plt.xlabel(\"True z\")\n",
    "plt.ylabel(\"Predicted z\")\n",
    "plt.ylim(0,3)\n",
    "plt.xlim(0,3)"
   ]
  },
  {
   "cell_type": "markdown",
   "metadata": {
    "id": "Y9WzlzTThOKL"
   },
   "source": [
    "Well, that's not great. Let's look at the parameters that we can tweak."
   ]
  },
  {
   "cell_type": "code",
   "execution_count": 44,
   "metadata": {
    "id": "g-346oSVhOKL",
    "outputId": "71ec8e64-9390-4e17-e53e-1170b81b50c6"
   },
   "outputs": [
    {
     "data": {
      "text/plain": [
       "{'base_estimator': 'deprecated',\n",
       " 'estimator': None,\n",
       " 'learning_rate': 1.0,\n",
       " 'loss': 'linear',\n",
       " 'n_estimators': 50,\n",
       " 'random_state': None}"
      ]
     },
     "execution_count": 44,
     "metadata": {},
     "output_type": "execute_result"
    }
   ],
   "source": [
    "model.get_params()"
   ]
  },
  {
   "cell_type": "markdown",
   "metadata": {
    "id": "wHo2CtXMhOKM"
   },
   "source": [
    "Note (from sklearn docs): If None, then the base estimator is DecisionTreeRegressor(max_depth=3). So the model is probably not performing great because we are stacking weak estimators."
   ]
  },
  {
   "cell_type": "markdown",
   "metadata": {
    "id": "yu8rfYT3hOKO"
   },
   "source": [
    "We create a train/test split because we need to use the \".fit\" method in order to access the \"staged_predict\" property to examine how the prediction changes at each stage."
   ]
  },
  {
   "cell_type": "code",
   "execution_count": 45,
   "metadata": {
    "id": "RkcnQImqhOKO"
   },
   "outputs": [],
   "source": [
    "X_train, X_test, y_train, y_test = \\\n",
    "        train_test_split(sel_features,sel_target.values.ravel(), test_size=.3, random_state=42)"
   ]
  },
  {
   "cell_type": "markdown",
   "metadata": {
    "id": "u9P4LFJwkjDW"
   },
   "source": [
    "We begin with a very weak learner: "
   ]
  },
  {
   "cell_type": "code",
   "execution_count": 46,
   "metadata": {
    "id": "yHPKci4IhOKO"
   },
   "outputs": [],
   "source": [
    "n_estimators=30\n",
    "model= AdaBoostRegressor(estimator=DecisionTreeRegressor(max_depth=3),\n",
    "                  n_estimators=n_estimators)"
   ]
  },
  {
   "cell_type": "code",
   "execution_count": 47,
   "metadata": {
    "id": "3iTYoRoNhOKP",
    "outputId": "4c91a511-4a26-49a6-cda2-a1e760f5b2d1"
   },
   "outputs": [
    {
     "data": {
      "text/html": [
       "<style>#sk-container-id-2 {color: black;}#sk-container-id-2 pre{padding: 0;}#sk-container-id-2 div.sk-toggleable {background-color: white;}#sk-container-id-2 label.sk-toggleable__label {cursor: pointer;display: block;width: 100%;margin-bottom: 0;padding: 0.3em;box-sizing: border-box;text-align: center;}#sk-container-id-2 label.sk-toggleable__label-arrow:before {content: \"▸\";float: left;margin-right: 0.25em;color: #696969;}#sk-container-id-2 label.sk-toggleable__label-arrow:hover:before {color: black;}#sk-container-id-2 div.sk-estimator:hover label.sk-toggleable__label-arrow:before {color: black;}#sk-container-id-2 div.sk-toggleable__content {max-height: 0;max-width: 0;overflow: hidden;text-align: left;background-color: #f0f8ff;}#sk-container-id-2 div.sk-toggleable__content pre {margin: 0.2em;color: black;border-radius: 0.25em;background-color: #f0f8ff;}#sk-container-id-2 input.sk-toggleable__control:checked~div.sk-toggleable__content {max-height: 200px;max-width: 100%;overflow: auto;}#sk-container-id-2 input.sk-toggleable__control:checked~label.sk-toggleable__label-arrow:before {content: \"▾\";}#sk-container-id-2 div.sk-estimator input.sk-toggleable__control:checked~label.sk-toggleable__label {background-color: #d4ebff;}#sk-container-id-2 div.sk-label input.sk-toggleable__control:checked~label.sk-toggleable__label {background-color: #d4ebff;}#sk-container-id-2 input.sk-hidden--visually {border: 0;clip: rect(1px 1px 1px 1px);clip: rect(1px, 1px, 1px, 1px);height: 1px;margin: -1px;overflow: hidden;padding: 0;position: absolute;width: 1px;}#sk-container-id-2 div.sk-estimator {font-family: monospace;background-color: #f0f8ff;border: 1px dotted black;border-radius: 0.25em;box-sizing: border-box;margin-bottom: 0.5em;}#sk-container-id-2 div.sk-estimator:hover {background-color: #d4ebff;}#sk-container-id-2 div.sk-parallel-item::after {content: \"\";width: 100%;border-bottom: 1px solid gray;flex-grow: 1;}#sk-container-id-2 div.sk-label:hover label.sk-toggleable__label {background-color: #d4ebff;}#sk-container-id-2 div.sk-serial::before {content: \"\";position: absolute;border-left: 1px solid gray;box-sizing: border-box;top: 0;bottom: 0;left: 50%;z-index: 0;}#sk-container-id-2 div.sk-serial {display: flex;flex-direction: column;align-items: center;background-color: white;padding-right: 0.2em;padding-left: 0.2em;position: relative;}#sk-container-id-2 div.sk-item {position: relative;z-index: 1;}#sk-container-id-2 div.sk-parallel {display: flex;align-items: stretch;justify-content: center;background-color: white;position: relative;}#sk-container-id-2 div.sk-item::before, #sk-container-id-2 div.sk-parallel-item::before {content: \"\";position: absolute;border-left: 1px solid gray;box-sizing: border-box;top: 0;bottom: 0;left: 50%;z-index: -1;}#sk-container-id-2 div.sk-parallel-item {display: flex;flex-direction: column;z-index: 1;position: relative;background-color: white;}#sk-container-id-2 div.sk-parallel-item:first-child::after {align-self: flex-end;width: 50%;}#sk-container-id-2 div.sk-parallel-item:last-child::after {align-self: flex-start;width: 50%;}#sk-container-id-2 div.sk-parallel-item:only-child::after {width: 0;}#sk-container-id-2 div.sk-dashed-wrapped {border: 1px dashed gray;margin: 0 0.4em 0.5em 0.4em;box-sizing: border-box;padding-bottom: 0.4em;background-color: white;}#sk-container-id-2 div.sk-label label {font-family: monospace;font-weight: bold;display: inline-block;line-height: 1.2em;}#sk-container-id-2 div.sk-label-container {text-align: center;}#sk-container-id-2 div.sk-container {/* jupyter's `normalize.less` sets `[hidden] { display: none; }` but bootstrap.min.css set `[hidden] { display: none !important; }` so we also need the `!important` here to be able to override the default hidden behavior on the sphinx rendered scikit-learn.org. See: https://github.com/scikit-learn/scikit-learn/issues/21755 */display: inline-block !important;position: relative;}#sk-container-id-2 div.sk-text-repr-fallback {display: none;}</style><div id=\"sk-container-id-2\" class=\"sk-top-container\"><div class=\"sk-text-repr-fallback\"><pre>AdaBoostRegressor(estimator=DecisionTreeRegressor(max_depth=3), n_estimators=30)</pre><b>In a Jupyter environment, please rerun this cell to show the HTML representation or trust the notebook. <br />On GitHub, the HTML representation is unable to render, please try loading this page with nbviewer.org.</b></div><div class=\"sk-container\" hidden><div class=\"sk-item sk-dashed-wrapped\"><div class=\"sk-label-container\"><div class=\"sk-label sk-toggleable\"><input class=\"sk-toggleable__control sk-hidden--visually\" id=\"sk-estimator-id-4\" type=\"checkbox\" ><label for=\"sk-estimator-id-4\" class=\"sk-toggleable__label sk-toggleable__label-arrow\">AdaBoostRegressor</label><div class=\"sk-toggleable__content\"><pre>AdaBoostRegressor(estimator=DecisionTreeRegressor(max_depth=3), n_estimators=30)</pre></div></div></div><div class=\"sk-parallel\"><div class=\"sk-parallel-item\"><div class=\"sk-item\"><div class=\"sk-label-container\"><div class=\"sk-label sk-toggleable\"><input class=\"sk-toggleable__control sk-hidden--visually\" id=\"sk-estimator-id-5\" type=\"checkbox\" ><label for=\"sk-estimator-id-5\" class=\"sk-toggleable__label sk-toggleable__label-arrow\">estimator: DecisionTreeRegressor</label><div class=\"sk-toggleable__content\"><pre>DecisionTreeRegressor(max_depth=3)</pre></div></div></div><div class=\"sk-serial\"><div class=\"sk-item\"><div class=\"sk-estimator sk-toggleable\"><input class=\"sk-toggleable__control sk-hidden--visually\" id=\"sk-estimator-id-6\" type=\"checkbox\" ><label for=\"sk-estimator-id-6\" class=\"sk-toggleable__label sk-toggleable__label-arrow\">DecisionTreeRegressor</label><div class=\"sk-toggleable__content\"><pre>DecisionTreeRegressor(max_depth=3)</pre></div></div></div></div></div></div></div></div></div></div>"
      ],
      "text/plain": [
       "AdaBoostRegressor(estimator=DecisionTreeRegressor(max_depth=3), n_estimators=30)"
      ]
     },
     "execution_count": 47,
     "metadata": {},
     "output_type": "execute_result"
    }
   ],
   "source": [
    "model.fit(X_train, y_train)"
   ]
  },
  {
   "cell_type": "markdown",
   "metadata": {
    "id": "YmHhgUn6hOKP"
   },
   "source": [
    "We can access the R2 score coefficient between true and predicted values as a function of the number of stages/iterations as follows:"
   ]
  },
  {
   "cell_type": "code",
   "execution_count": 48,
   "metadata": {},
   "outputs": [],
   "source": [
    "r2_max3 = [metrics.r2_score(y_test,list(model.staged_predict(X_test))[i]) for i in range(n_estimators)]"
   ]
  },
  {
   "cell_type": "code",
   "execution_count": null,
   "metadata": {},
   "outputs": [],
   "source": []
  },
  {
   "cell_type": "markdown",
   "metadata": {},
   "source": [
    "<div style=\"background-color:#C2F5DD\">\n",
    "\n",
    "## Exercise 4\n",
    "1. Calculate the R2 values as a function of iteration for base estimators with maximum depths = 3, 6 and 10.\n",
    "2. Plot the 3 R2 scores as a function of iteration on the same graph.\n",
    "3. Comment on the results.\n",
    "4. Repeat the same plot but using `GradientBoostingRegressor` instead.\n",
    "5. Comment on the results."
   ]
  },
  {
   "cell_type": "code",
   "execution_count": 51,
   "metadata": {},
   "outputs": [
    {
     "name": "stdout",
     "output_type": "stream",
     "text": [
      "Max depth 3: Used 30 estimators out of 30\n",
      "Max depth 6: Used 30 estimators out of 30\n",
      "Max depth 10: Used 30 estimators out of 30\n"
     ]
    }
   ],
   "source": [
    "# Calculate R2 values for different tree depths\n",
    "from sklearn.ensemble import AdaBoostRegressor, GradientBoostingRegressor\n",
    "from sklearn.tree import DecisionTreeRegressor\n",
    "import sklearn.metrics as metrics\n",
    "\n",
    "# Create train/test split\n",
    "from sklearn.model_selection import train_test_split\n",
    "X_train, X_test, y_train, y_test = train_test_split(\n",
    "    sel_features, sel_target, test_size=0.3, random_state=42\n",
    ")\n",
    "\n",
    "n_estimators = 30\n",
    "depths = [3, 6, 10]\n",
    "r2_scores_ada = {}\n",
    "\n",
    "for depth in depths:\n",
    "    model = AdaBoostRegressor(\n",
    "        estimator=DecisionTreeRegressor(max_depth=depth),\n",
    "        n_estimators=n_estimators\n",
    "    )\n",
    "    model.fit(X_train, y_train)\n",
    "    \n",
    "    # Get all stages and their actual count\n",
    "    predictions = list(model.staged_predict(X_test))\n",
    "    actual_n_estimators = len(predictions)\n",
    "    \n",
    "    # Use only the available stages\n",
    "    r2_scores_ada[depth] = [\n",
    "        metrics.r2_score(y_test, predictions[i]) \n",
    "        for i in range(actual_n_estimators)\n",
    "    ]\n",
    "    \n",
    "    print(f\"Max depth {depth}: Used {actual_n_estimators} estimators out of {n_estimators}\")"
   ]
  },
  {
   "cell_type": "code",
   "execution_count": 52,
   "metadata": {},
   "outputs": [
    {
     "data": {
      "image/png": "[encoded data removed]",
      "text/plain": [
       "<Figure size 1000x600 with 1 Axes>"
      ]
     },
     "metadata": {},
     "output_type": "display_data"
    }
   ],
   "source": [
    "# Plot AdaBoost R2 scores\n",
    "plt.figure(figsize=(10, 6))\n",
    "for depth in depths:\n",
    "    plt.plot(range(1, n_estimators + 1), r2_scores_ada[depth], \n",
    "             label=f'max_depth={depth}')\n",
    "plt.xlabel('Number of Estimators')\n",
    "plt.ylabel('R² Score')\n",
    "plt.title('AdaBoost: R² Score vs Number of Estimators for Different Tree Depths')\n",
    "plt.legend()\n",
    "plt.grid(True, alpha=0.3)\n",
    "plt.show()"
   ]
  },
  {
   "cell_type": "code",
   "execution_count": 53,
   "metadata": {},
   "outputs": [
    {
     "data": {
      "text/plain": [
       "\"\\nAdaBoost observations:\\n- Deeper trees (higher max_depth) generally result in better performance\\n- Performance tends to plateau after a certain number of estimators\\n- Stacking very weak learners (max_depth=3) yields poorer performance than\\n  using slightly stronger base estimators\\n- There's a trade-off between base estimator complexity and ensemble size\\n\""
      ]
     },
     "execution_count": 53,
     "metadata": {},
     "output_type": "execute_result"
    }
   ],
   "source": [
    "\"\"\"\n",
    "AdaBoost observations:\n",
    "- Deeper trees (higher max_depth) generally result in better performance\n",
    "- Performance tends to plateau after a certain number of estimators\n",
    "- Stacking very weak learners (max_depth=3) yields poorer performance than\n",
    "  using slightly stronger base estimators\n",
    "- There's a trade-off between base estimator complexity and ensemble size\n",
    "\"\"\""
   ]
  },
  {
   "cell_type": "code",
   "execution_count": 66,
   "metadata": {},
   "outputs": [
    {
     "data": {
      "image/png": "[encoded data removed]",
      "text/plain": [
       "<Figure size 1000x600 with 1 Axes>"
      ]
     },
     "metadata": {},
     "output_type": "display_data"
    }
   ],
   "source": [
    "# For GradientBoosting with different max_depths\n",
    "r2_scores_gbr = {}\n",
    "\n",
    "for depth in depths:\n",
    "    model = GradientBoostingRegressor(\n",
    "        max_depth=depth,\n",
    "        n_estimators=n_estimators,\n",
    "        learning_rate=0.1\n",
    "    )\n",
    "    model.fit(X_train, y_train)\n",
    "    \n",
    "    # Convert the generator to a list first\n",
    "    staged_predictions = list(model.staged_predict(X_test))\n",
    "    \n",
    "    r2_scores_gbr[depth] = [\n",
    "        metrics.r2_score(y_test, staged_predictions[i]) \n",
    "        for i in range(len(staged_predictions))\n",
    "    ]\n",
    "\n",
    "# Plot GradientBoosting R2 scores\n",
    "plt.figure(figsize=(10, 6))\n",
    "for depth in depths:\n",
    "    plt.plot(range(1, len(r2_scores_gbr[depth]) + 1), r2_scores_gbr[depth], \n",
    "             label=f'max_depth={depth}')\n",
    "plt.xlabel('Number of Estimators')\n",
    "plt.ylabel('R² Score')\n",
    "plt.title('GradientBoosting: R² Score vs Number of Estimators for Different Tree Depths')\n",
    "plt.legend()\n",
    "plt.grid(True, alpha=0.3)\n",
    "plt.show()"
   ]
  },
  {
   "cell_type": "code",
   "execution_count": 65,
   "metadata": {},
   "outputs": [
    {
     "data": {
      "text/plain": [
       "'\\nGradientBoosting observations:\\n- GradientBoosting generally achieves higher R² scores than AdaBoost\\n- The benefit of increasing tree depth is more pronounced in GradientBoosting\\n- GradientBoosting shows more stable improvement with additional estimators\\n- Less prone to overfitting with deeper trees compared to AdaBoost\\n- The learning rate parameter (set to 0.1) helps control the contribution of each tree\\n'"
      ]
     },
     "execution_count": 65,
     "metadata": {},
     "output_type": "execute_result"
    }
   ],
   "source": [
    "\"\"\"\n",
    "GradientBoosting observations:\n",
    "- GradientBoosting generally achieves higher R² scores than AdaBoost\n",
    "- The benefit of increasing tree depth is more pronounced in GradientBoosting\n",
    "- GradientBoosting shows more stable improvement with additional estimators\n",
    "- Less prone to overfitting with deeper trees compared to AdaBoost, smooth curves\n",
    "- The learning rate parameter (set to 0.1) helps control the contribution of each tree\n",
    "\"\"\""
   ]
  },
  {
   "cell_type": "markdown",
   "metadata": {
    "id": "XnYzNLmInD3i"
   },
   "source": [
    "<hr style=\"border:2px solid gray\">\n",
    "\n",
    "## Flavours of Boosting <a id='flavours'></a>\n",
    "\n"
   ]
  },
  {
   "cell_type": "markdown",
   "metadata": {
    "id": "pCihwUFanD3p"
   },
   "source": [
    "In the previous exercise, we showed that for AdaBoost, stacking learners that are too weak doesn't help."
   ]
  },
  {
   "cell_type": "markdown",
   "metadata": {
    "id": "evMo-_xYnD3p"
   },
   "source": [
    "This allows us to run a more informed parameter optimisation (cell will take 3-5 mins to run)."
   ]
  },
  {
   "cell_type": "code",
   "execution_count": 67,
   "metadata": {
    "id": "ygJqRo-VnD3p",
    "outputId": "860e38c0-4427-476b-d48f-154a89c0f334"
   },
   "outputs": [
    {
     "name": "stdout",
     "output_type": "stream",
     "text": [
      "Fitting 5 folds for each of 54 candidates, totalling 270 fits\n",
      "Best params, best score: 0.7503 {'estimator__max_depth': None, 'learning_rate': 1.0, 'loss': 'linear', 'n_estimators': 100}\n"
     ]
    }
   ],
   "source": [
    "parameters = {'estimator__max_depth':[6,10,None], 'loss':['linear','square'], 'n_estimators':[20,50,100], 'learning_rate': [0.3,0.5,1.0]}\n",
    "nmodels = np.product([len(el) for el in parameters.values()])\n",
    "model = GridSearchCV(AdaBoostRegressor(estimator=DecisionTreeRegressor()), parameters, \\\n",
    "                     cv = KFold(n_splits=5, shuffle=True, random_state = 5), \\\n",
    "                     verbose = 2, n_jobs = 4, return_train_score=True)\n",
    "model.fit(sel_features,sel_target.values.ravel())\n",
    "\n",
    "print('Best params, best score:', \"{:.4f}\".format(model.best_score_), \\\n",
    "      model.best_params_)"
   ]
  },
  {
   "cell_type": "markdown",
   "metadata": {
    "id": "cyvakR19nD3q"
   },
   "source": [
    "We can take a look at the winning model scores; in this case, we also pay attention to the standard deviation of test scores, because we want to know what differences are statistically significant when we compare different models."
   ]
  },
  {
   "cell_type": "code",
   "execution_count": 68,
   "metadata": {
    "id": "TsI06MgInD3q",
    "outputId": "32aa34c0-ef9a-470b-9cfe-841b3257f028"
   },
   "outputs": [
    {
     "data": {
      "text/html": [
       "<div>\n",
       "<style scoped>\n",
       "    .dataframe tbody tr th:only-of-type {\n",
       "        vertical-align: middle;\n",
       "    }\n",
       "\n",
       "    .dataframe tbody tr th {\n",
       "        vertical-align: top;\n",
       "    }\n",
       "\n",
       "    .dataframe thead th {\n",
       "        text-align: right;\n",
       "    }\n",
       "</style>\n",
       "<table border=\"1\" class=\"dataframe\">\n",
       "  <thead>\n",
       "    <tr style=\"text-align: right;\">\n",
       "      <th></th>\n",
       "      <th>params</th>\n",
       "      <th>mean_test_score</th>\n",
       "      <th>std_test_score</th>\n",
       "      <th>mean_train_score</th>\n",
       "    </tr>\n",
       "  </thead>\n",
       "  <tbody>\n",
       "    <tr>\n",
       "      <th>50</th>\n",
       "      <td>{'estimator__max_depth': None, 'learning_rate': 1.0, 'loss': 'linear', 'n_estimators': 100}</td>\n",
       "      <td>0.750298</td>\n",
       "      <td>0.034574</td>\n",
       "      <td>0.999757</td>\n",
       "    </tr>\n",
       "    <tr>\n",
       "      <th>45</th>\n",
       "      <td>{'estimator__max_depth': None, 'learning_rate': 0.5, 'loss': 'square', 'n_estimators': 20}</td>\n",
       "      <td>0.746603</td>\n",
       "      <td>0.028429</td>\n",
       "      <td>0.999378</td>\n",
       "    </tr>\n",
       "    <tr>\n",
       "      <th>53</th>\n",
       "      <td>{'estimator__max_depth': None, 'learning_rate': 1.0, 'loss': 'square', 'n_estimators': 100}</td>\n",
       "      <td>0.744977</td>\n",
       "      <td>0.042305</td>\n",
       "      <td>0.979719</td>\n",
       "    </tr>\n",
       "    <tr>\n",
       "      <th>49</th>\n",
       "      <td>{'estimator__max_depth': None, 'learning_rate': 1.0, 'loss': 'linear', 'n_estimators': 50}</td>\n",
       "      <td>0.743595</td>\n",
       "      <td>0.055908</td>\n",
       "      <td>0.999780</td>\n",
       "    </tr>\n",
       "    <tr>\n",
       "      <th>46</th>\n",
       "      <td>{'estimator__max_depth': None, 'learning_rate': 0.5, 'loss': 'square', 'n_estimators': 50}</td>\n",
       "      <td>0.741542</td>\n",
       "      <td>0.039514</td>\n",
       "      <td>0.999860</td>\n",
       "    </tr>\n",
       "  </tbody>\n",
       "</table>\n",
       "</div>"
      ],
      "text/plain": [
       "                                                                                         params  \\\n",
       "50  {'estimator__max_depth': None, 'learning_rate': 1.0, 'loss': 'linear', 'n_estimators': 100}   \n",
       "45   {'estimator__max_depth': None, 'learning_rate': 0.5, 'loss': 'square', 'n_estimators': 20}   \n",
       "53  {'estimator__max_depth': None, 'learning_rate': 1.0, 'loss': 'square', 'n_estimators': 100}   \n",
       "49   {'estimator__max_depth': None, 'learning_rate': 1.0, 'loss': 'linear', 'n_estimators': 50}   \n",
       "46   {'estimator__max_depth': None, 'learning_rate': 0.5, 'loss': 'square', 'n_estimators': 50}   \n",
       "\n",
       "    mean_test_score  std_test_score  mean_train_score  \n",
       "50         0.750298        0.034574          0.999757  \n",
       "45         0.746603        0.028429          0.999378  \n",
       "53         0.744977        0.042305          0.979719  \n",
       "49         0.743595        0.055908          0.999780  \n",
       "46         0.741542        0.039514          0.999860  "
      ]
     },
     "execution_count": 68,
     "metadata": {},
     "output_type": "execute_result"
    }
   ],
   "source": [
    "scores = pd.DataFrame(model.cv_results_)\n",
    "scoresCV = scores[['params','mean_test_score','std_test_score','mean_train_score']].sort_values(by = 'mean_test_score', \\\n",
    "                                                    ascending = False)\n",
    "scoresCV.head()"
   ]
  },
  {
   "cell_type": "markdown",
   "metadata": {
    "id": "Ms4eDbtXnD3q"
   },
   "source": [
    "We can see that the standard deviation is 0.03 - giving us a hint of what's significant - and that a few different models have similar scores. If you change the random seed in the cross validation, the scores will change by a similar amount, and the best model may change as well.\n",
    "\n",
    "Additionally, the resulting scores will not be exactly reproducible because there is another random component in the adaptive learning set (this means that if you run the cross_validate function using the best model from above, you might get a different average score!)"
   ]
  },
  {
   "cell_type": "markdown",
   "metadata": {
    "id": "bHFnPYvxnD3u"
   },
   "source": [
    "We could repeat the same exercise but with GradientBoosting and the cells will take a lot longer to run, the performance won't change much. Maybe we can try something smarter."
   ]
  },
  {
   "cell_type": "markdown",
   "metadata": {
    "id": "W2RRi23EnD3v"
   },
   "source": [
    "We can improve on the time constraints in two ways: by switching to the histogram-based version of Gradient Boosting Regressor, and by using a Random Search instead of a Grid Search.\n",
    "\n",
    "### HistGradientBoostingRegressor\n",
    "\n",
    "HistGradientBoostingRegressor (inspired by [LightGBM](https://lightgbm.readthedocs.io/en/latest/)) works by binning the features into integer-valued bins (the default value is 256, but this parameter can be adjusted; note however that 256 is the maximum!), which greatly reduces the number of splitting points to consider, and results in a vast reduction of computation time, especially for large data sets."
   ]
  },
  {
   "cell_type": "code",
   "execution_count": 69,
   "metadata": {
    "id": "0LwMtWr3nD3w",
    "outputId": "0e2e6f6f-1cf9-41d1-a22b-d0457c9110cf"
   },
   "outputs": [
    {
     "name": "stdout",
     "output_type": "stream",
     "text": [
      "Fitting 5 folds for each of 54 candidates, totalling 270 fits\n",
      "Best params, best score: 0.7228 {'learning_rate': 0.3, 'loss': 'squared_error', 'max_depth': None, 'max_iter': 100}\n"
     ]
    }
   ],
   "source": [
    "# %%time\n",
    "# This took ~ 40s\n",
    "\n",
    "parameters = {'max_depth':[6,10,None], 'loss':['squared_error','absolute_error'], \n",
    "              'max_iter':[20,50,100], 'learning_rate': [0.1,0.3,0.5]}\n",
    "nmodels = np.product([len(el) for el in parameters.values()])\n",
    "model = GridSearchCV(HistGradientBoostingRegressor(), parameters, \n",
    "                     cv = KFold(n_splits=5, shuffle=True, random_state = 5), \\\n",
    "                     verbose = 1, n_jobs = 4, return_train_score=True)\n",
    "model.fit(sel_features,sel_target.values.ravel())\n",
    "\n",
    "print('Best params, best score:', \"{:.4f}\".format(model.best_score_), \\\n",
    "      model.best_params_)"
   ]
  },
  {
   "cell_type": "code",
   "execution_count": 70,
   "metadata": {
    "id": "16fHVf9_nD3w",
    "outputId": "00d3ace3-bffe-4c09-c064-1deab9565527"
   },
   "outputs": [
    {
     "data": {
      "text/html": [
       "<div>\n",
       "<style scoped>\n",
       "    .dataframe tbody tr th:only-of-type {\n",
       "        vertical-align: middle;\n",
       "    }\n",
       "\n",
       "    .dataframe tbody tr th {\n",
       "        vertical-align: top;\n",
       "    }\n",
       "\n",
       "    .dataframe thead th {\n",
       "        text-align: right;\n",
       "    }\n",
       "</style>\n",
       "<table border=\"1\" class=\"dataframe\">\n",
       "  <thead>\n",
       "    <tr style=\"text-align: right;\">\n",
       "      <th></th>\n",
       "      <th>params</th>\n",
       "      <th>mean_test_score</th>\n",
       "      <th>std_test_score</th>\n",
       "      <th>mean_train_score</th>\n",
       "    </tr>\n",
       "  </thead>\n",
       "  <tbody>\n",
       "    <tr>\n",
       "      <th>26</th>\n",
       "      <td>{'learning_rate': 0.3, 'loss': 'squared_error', 'max_depth': None, 'max_iter': 100}</td>\n",
       "      <td>0.722753</td>\n",
       "      <td>0.032414</td>\n",
       "      <td>0.933699</td>\n",
       "    </tr>\n",
       "    <tr>\n",
       "      <th>8</th>\n",
       "      <td>{'learning_rate': 0.1, 'loss': 'squared_error', 'max_depth': None, 'max_iter': 100}</td>\n",
       "      <td>0.718878</td>\n",
       "      <td>0.038202</td>\n",
       "      <td>0.859242</td>\n",
       "    </tr>\n",
       "    <tr>\n",
       "      <th>20</th>\n",
       "      <td>{'learning_rate': 0.3, 'loss': 'squared_error', 'max_depth': 6, 'max_iter': 100}</td>\n",
       "      <td>0.716276</td>\n",
       "      <td>0.032355</td>\n",
       "      <td>0.888385</td>\n",
       "    </tr>\n",
       "    <tr>\n",
       "      <th>5</th>\n",
       "      <td>{'learning_rate': 0.1, 'loss': 'squared_error', 'max_depth': 10, 'max_iter': 100}</td>\n",
       "      <td>0.714739</td>\n",
       "      <td>0.039421</td>\n",
       "      <td>0.843921</td>\n",
       "    </tr>\n",
       "    <tr>\n",
       "      <th>23</th>\n",
       "      <td>{'learning_rate': 0.3, 'loss': 'squared_error', 'max_depth': 10, 'max_iter': 100}</td>\n",
       "      <td>0.714376</td>\n",
       "      <td>0.037735</td>\n",
       "      <td>0.923766</td>\n",
       "    </tr>\n",
       "  </tbody>\n",
       "</table>\n",
       "</div>"
      ],
      "text/plain": [
       "                                                                                 params  \\\n",
       "26  {'learning_rate': 0.3, 'loss': 'squared_error', 'max_depth': None, 'max_iter': 100}   \n",
       "8   {'learning_rate': 0.1, 'loss': 'squared_error', 'max_depth': None, 'max_iter': 100}   \n",
       "20     {'learning_rate': 0.3, 'loss': 'squared_error', 'max_depth': 6, 'max_iter': 100}   \n",
       "5     {'learning_rate': 0.1, 'loss': 'squared_error', 'max_depth': 10, 'max_iter': 100}   \n",
       "23    {'learning_rate': 0.3, 'loss': 'squared_error', 'max_depth': 10, 'max_iter': 100}   \n",
       "\n",
       "    mean_test_score  std_test_score  mean_train_score  \n",
       "26         0.722753        0.032414          0.933699  \n",
       "8          0.718878        0.038202          0.859242  \n",
       "20         0.716276        0.032355          0.888385  \n",
       "5          0.714739        0.039421          0.843921  \n",
       "23         0.714376        0.037735          0.923766  "
      ]
     },
     "execution_count": 70,
     "metadata": {},
     "output_type": "execute_result"
    }
   ],
   "source": [
    "scores = pd.DataFrame(model.cv_results_)\n",
    "scoresCV = scores[['params','mean_test_score','std_test_score','mean_train_score']].sort_values(by = 'mean_test_score', \\\n",
    "                                                    ascending = False)\n",
    "scoresCV.head()"
   ]
  },
  {
   "cell_type": "markdown",
   "metadata": {
    "id": "DBJR5eWhnD3w"
   },
   "source": [
    "Even for this relatively small data set, this is much faster (about 15x faster than GradientBoostingRegressor), giving us a chance to explore a wider parameter space (e.g. more trees, more options for learning rate). The trade-off is that we obtain a slight decrease in performance, compared with GBR. However, the standard deviation of test scores over the 5 CV folds suggests that this difference is not statistically significant."
   ]
  },
  {
   "cell_type": "markdown",
   "metadata": {
    "id": "oceBY2WfnD3y"
   },
   "source": [
    "### RandomizedSearchCV\n",
    "\n",
    "Finally, we can compare the performance and timings of the grid search above with the option of using a Randomised Search instead. We note that Random Search is usually preferable when we have a high-dimensional parameter space; its use is not particularly warranted here.\n",
    "\n",
    "The number of iterations (the number of models that are considered) also needs to be adjusted, and depends on the dimensionality of the parameter space as well as the functional dependence of the loss function on the parameters. "
   ]
  },
  {
   "cell_type": "code",
   "execution_count": 71,
   "metadata": {
    "id": "NpFTKv-JnD3y",
    "outputId": "34e35ee3-045f-439f-f708-e4a3c5644640"
   },
   "outputs": [
    {
     "name": "stdout",
     "output_type": "stream",
     "text": [
      "Fitting 5 folds for each of 30 candidates, totalling 150 fits\n",
      "Best params, best score: 0.7169 {'max_iter': 100, 'max_depth': None, 'loss': 'squared_error', 'learning_rate': 0.1}\n"
     ]
    }
   ],
   "source": [
    "#%%time\n",
    "# 31 seconds\n",
    "\n",
    "parameters = {'max_depth':[6,10,None], 'loss':['squared_error','absolute_error'], \n",
    "              'max_iter':[20,50,100], 'learning_rate': [0.1,0.3,0.5]}\n",
    "nmodels = np.product([len(el) for el in parameters.values()])\n",
    "model = RandomizedSearchCV(HistGradientBoostingRegressor(), parameters, cv = KFold(n_splits=5, shuffle=True), \\\n",
    "                     verbose = 1, n_jobs = 4, return_train_score=True, n_iter=30)\n",
    "model.fit(sel_features,sel_target.values.ravel())\n",
    "\n",
    "print('Best params, best score:', \"{:.4f}\".format(model.best_score_), \\\n",
    "      model.best_params_)"
   ]
  },
  {
   "cell_type": "markdown",
   "metadata": {
    "id": "dQ1HoXQanD3y"
   },
   "source": [
    "The Randomized Search was able to find a comparably good solution in less than 1/5 of the time. As we mentioned, the true gains of a Randomized Search pertain to exploring high-dimensional spaces. It is also possible to use the Randomized Search to find the general area of optimal parameters, and then refine the search in that neighborhood with a finer Grid Search."
   ]
  },
  {
   "cell_type": "markdown",
   "metadata": {
    "id": "1M_3MB0CnD3y"
   },
   "source": [
    "### XGBoost"
   ]
  },
  {
   "cell_type": "markdown",
   "metadata": {
    "id": "IYtnXEconD3y"
   },
   "source": [
    "[XGBoost](https://xgboost.readthedocs.io/en/latest/index.html#) stands for “Extreme Gradient Boosting”. It is sometimes known as \"regularized\" GBM, as it has a default regularization term on the weights of the ensemble, and is more robust to overfitting. It has more flexibility in defining weak learners, as well as the objective (loss) function (note that this doesn't apply to the base estimators, e.g. how splits in trees are chosen, but on the loss that is used to compute pseudoresiduals and gradients). \n"
   ]
  },
  {
   "cell_type": "markdown",
   "metadata": {
    "id": "TI5v8EOGnD3z"
   },
   "source": [
    "Medium article explaining XGBoost: [here](https://towardsdatascience.com/a-beginners-guide-to-xgboost-87f5d4c30ed7); some nice tutorials from XGBoost's site: [here](https://xgboost.readthedocs.io/en/latest/tutorials/index.html)"
   ]
  },
  {
   "cell_type": "markdown",
   "metadata": {
    "id": "P52BMto0nD3z"
   },
   "source": [
    "We can run RandomizedSearchCV and the original parameter space:"
   ]
  },
  {
   "cell_type": "code",
   "execution_count": 72,
   "metadata": {
    "id": "kWe7diGMnD3z"
   },
   "outputs": [
    {
     "name": "stdout",
     "output_type": "stream",
     "text": [
      "Fitting 5 folds for each of 10 candidates, totalling 50 fits\n",
      "Best params, best score: 0.7403 {'objective': 'reg:squaredlogerror', 'n_estimators': 200, 'max_depth': 10, 'learning_rate': 0.1}\n"
     ]
    }
   ],
   "source": [
    "parameters = {'max_depth':[6,10,None], 'n_estimators':[50,100,200], \n",
    "              'learning_rate': [0.1, 0.3,0.5], 'objective':['reg:squarederror','reg:squaredlogerror']}\n",
    "\n",
    "\n",
    "nmodels = np.product([len(el) for el in parameters.values()])\n",
    "model = RandomizedSearchCV(xgb.XGBRegressor(), parameters, cv = KFold(n_splits=5, shuffle=True), \\\n",
    "                     verbose = 1, n_jobs = 4, return_train_score=True)\n",
    "model.fit(sel_features,sel_target.values.ravel())\n",
    "\n",
    "print('Best params, best score:', \"{:.4f}\".format(model.best_score_), \\\n",
    "      model.best_params_)"
   ]
  },
  {
   "cell_type": "markdown",
   "metadata": {
    "id": "wBymPKgtnD30"
   },
   "source": [
    "**Conclusion:** all boosting algorithms behave fairly similarly for this data set. It might be worth simply using the fastest one (HistGBR + Random Search)."
   ]
  },
  {
   "cell_type": "markdown",
   "metadata": {
    "id": "H-DNMwHoqo9W"
   },
   "source": [
    "<hr style=\"border:2px solid gray\">\n",
    "\n",
    "## Feature importances <a id='feature'></a>\n"
   ]
  },
  {
   "cell_type": "markdown",
   "metadata": {},
   "source": [
    "Let's try to check out the feature importances of a `RandomForestRegressor`"
   ]
  },
  {
   "cell_type": "markdown",
   "metadata": {},
   "source": [
    "First we define the model:"
   ]
  },
  {
   "cell_type": "code",
   "execution_count": 73,
   "metadata": {},
   "outputs": [],
   "source": [
    "model = RandomForestRegressor(max_features=4, n_estimators=200) #I need to re-seed the random state"
   ]
  },
  {
   "cell_type": "markdown",
   "metadata": {},
   "source": [
    "Then we train the model:"
   ]
  },
  {
   "cell_type": "code",
   "execution_count": 74,
   "metadata": {},
   "outputs": [
    {
     "data": {
      "text/html": [
       "<style>#sk-container-id-4 {color: black;}#sk-container-id-4 pre{padding: 0;}#sk-container-id-4 div.sk-toggleable {background-color: white;}#sk-container-id-4 label.sk-toggleable__label {cursor: pointer;display: block;width: 100%;margin-bottom: 0;padding: 0.3em;box-sizing: border-box;text-align: center;}#sk-container-id-4 label.sk-toggleable__label-arrow:before {content: \"▸\";float: left;margin-right: 0.25em;color: #696969;}#sk-container-id-4 label.sk-toggleable__label-arrow:hover:before {color: black;}#sk-container-id-4 div.sk-estimator:hover label.sk-toggleable__label-arrow:before {color: black;}#sk-container-id-4 div.sk-toggleable__content {max-height: 0;max-width: 0;overflow: hidden;text-align: left;background-color: #f0f8ff;}#sk-container-id-4 div.sk-toggleable__content pre {margin: 0.2em;color: black;border-radius: 0.25em;background-color: #f0f8ff;}#sk-container-id-4 input.sk-toggleable__control:checked~div.sk-toggleable__content {max-height: 200px;max-width: 100%;overflow: auto;}#sk-container-id-4 input.sk-toggleable__control:checked~label.sk-toggleable__label-arrow:before {content: \"▾\";}#sk-container-id-4 div.sk-estimator input.sk-toggleable__control:checked~label.sk-toggleable__label {background-color: #d4ebff;}#sk-container-id-4 div.sk-label input.sk-toggleable__control:checked~label.sk-toggleable__label {background-color: #d4ebff;}#sk-container-id-4 input.sk-hidden--visually {border: 0;clip: rect(1px 1px 1px 1px);clip: rect(1px, 1px, 1px, 1px);height: 1px;margin: -1px;overflow: hidden;padding: 0;position: absolute;width: 1px;}#sk-container-id-4 div.sk-estimator {font-family: monospace;background-color: #f0f8ff;border: 1px dotted black;border-radius: 0.25em;box-sizing: border-box;margin-bottom: 0.5em;}#sk-container-id-4 div.sk-estimator:hover {background-color: #d4ebff;}#sk-container-id-4 div.sk-parallel-item::after {content: \"\";width: 100%;border-bottom: 1px solid gray;flex-grow: 1;}#sk-container-id-4 div.sk-label:hover label.sk-toggleable__label {background-color: #d4ebff;}#sk-container-id-4 div.sk-serial::before {content: \"\";position: absolute;border-left: 1px solid gray;box-sizing: border-box;top: 0;bottom: 0;left: 50%;z-index: 0;}#sk-container-id-4 div.sk-serial {display: flex;flex-direction: column;align-items: center;background-color: white;padding-right: 0.2em;padding-left: 0.2em;position: relative;}#sk-container-id-4 div.sk-item {position: relative;z-index: 1;}#sk-container-id-4 div.sk-parallel {display: flex;align-items: stretch;justify-content: center;background-color: white;position: relative;}#sk-container-id-4 div.sk-item::before, #sk-container-id-4 div.sk-parallel-item::before {content: \"\";position: absolute;border-left: 1px solid gray;box-sizing: border-box;top: 0;bottom: 0;left: 50%;z-index: -1;}#sk-container-id-4 div.sk-parallel-item {display: flex;flex-direction: column;z-index: 1;position: relative;background-color: white;}#sk-container-id-4 div.sk-parallel-item:first-child::after {align-self: flex-end;width: 50%;}#sk-container-id-4 div.sk-parallel-item:last-child::after {align-self: flex-start;width: 50%;}#sk-container-id-4 div.sk-parallel-item:only-child::after {width: 0;}#sk-container-id-4 div.sk-dashed-wrapped {border: 1px dashed gray;margin: 0 0.4em 0.5em 0.4em;box-sizing: border-box;padding-bottom: 0.4em;background-color: white;}#sk-container-id-4 div.sk-label label {font-family: monospace;font-weight: bold;display: inline-block;line-height: 1.2em;}#sk-container-id-4 div.sk-label-container {text-align: center;}#sk-container-id-4 div.sk-container {/* jupyter's `normalize.less` sets `[hidden] { display: none; }` but bootstrap.min.css set `[hidden] { display: none !important; }` so we also need the `!important` here to be able to override the default hidden behavior on the sphinx rendered scikit-learn.org. See: https://github.com/scikit-learn/scikit-learn/issues/21755 */display: inline-block !important;position: relative;}#sk-container-id-4 div.sk-text-repr-fallback {display: none;}</style><div id=\"sk-container-id-4\" class=\"sk-top-container\"><div class=\"sk-text-repr-fallback\"><pre>RandomForestRegressor(max_features=4, n_estimators=200)</pre><b>In a Jupyter environment, please rerun this cell to show the HTML representation or trust the notebook. <br />On GitHub, the HTML representation is unable to render, please try loading this page with nbviewer.org.</b></div><div class=\"sk-container\" hidden><div class=\"sk-item\"><div class=\"sk-estimator sk-toggleable\"><input class=\"sk-toggleable__control sk-hidden--visually\" id=\"sk-estimator-id-8\" type=\"checkbox\" checked><label for=\"sk-estimator-id-8\" class=\"sk-toggleable__label sk-toggleable__label-arrow\">RandomForestRegressor</label><div class=\"sk-toggleable__content\"><pre>RandomForestRegressor(max_features=4, n_estimators=200)</pre></div></div></div></div></div>"
      ],
      "text/plain": [
       "RandomForestRegressor(max_features=4, n_estimators=200)"
      ]
     },
     "execution_count": 74,
     "metadata": {},
     "output_type": "execute_result"
    }
   ],
   "source": [
    "model.fit(sel_features, sel_target.values.ravel()) "
   ]
  },
  {
   "cell_type": "markdown",
   "metadata": {},
   "source": [
    "And get the importances:"
   ]
  },
  {
   "cell_type": "code",
   "execution_count": 75,
   "metadata": {},
   "outputs": [
    {
     "data": {
      "text/plain": [
       "array([0.20138401, 0.14100588, 0.29690684, 0.15139307, 0.09871054,\n",
       "       0.11059967])"
      ]
     },
     "execution_count": 75,
     "metadata": {},
     "output_type": "execute_result"
    }
   ],
   "source": [
    "model.feature_importances_"
   ]
  },
  {
   "cell_type": "markdown",
   "metadata": {},
   "source": [
    "Now we can sort them and print them out:"
   ]
  },
  {
   "cell_type": "code",
   "execution_count": 76,
   "metadata": {},
   "outputs": [
    {
     "name": "stdout",
     "output_type": "stream",
     "text": [
      "Feature ranking:\n",
      "1. feature: r_apercor, 2 (0.296907)\n",
      "2. feature: u_apercor, 0 (0.201384)\n",
      "3. feature: i_apercor, 3 (0.151393)\n",
      "4. feature: g_apercor, 1 (0.141006)\n",
      "5. feature: y_apercor, 5 (0.110600)\n",
      "6. feature: z_apercor, 4 (0.098711)\n"
     ]
    }
   ],
   "source": [
    "importances = model.feature_importances_\n",
    "\n",
    "indices = np.argsort(importances)[::-1]\n",
    "\n",
    "# Print the feature ranking\n",
    "print(\"Feature ranking:\")\n",
    "\n",
    "for f in range(sel_features.shape[1]):\n",
    "    print(\"%d. feature: %s, %d (%f)\" % (f + 1, sel_features.columns[indices[f]], indices[f], importances[indices[f]]))"
   ]
  },
  {
   "cell_type": "markdown",
   "metadata": {
    "id": "H-DNMwHoqo9W"
   },
   "source": [
    "\n",
    "<div style=\"background-color:#C2F5DD\">\n",
    "\n",
    "## Exercise 5\n",
    "\n",
    "1. Define 3 models:\n",
    "   - a `RandomForestRegressor` with `max_features=4` and  `n_estimators=200)`\n",
    "   - an `AdaBoostRegressor` with base estimator a `DecisionTreeRegressor` (no max depth) and `n_estimators=100`\n",
    "   - an `xgb.XGBRegressor(objective ='reg:squarederror', max_depth=6, n_estimators = 500, learning_rate=0.1)`\n",
    "2. Train the 3 models using `sel_features` and `sel_target`.\n",
    "3. Get the feature importances for each model. *Hint: you can use `feature_importances`*\n",
    "4. Plot them in 3 overlaid histograms\n",
    "5. Comment on the results"
   ]
  },
  {
   "cell_type": "code",
   "execution_count": 77,
   "metadata": {},
   "outputs": [],
   "source": [
    "# Define the three models\n",
    "rf_model = RandomForestRegressor(max_features=4, n_estimators=200)\n",
    "ada_model = AdaBoostRegressor(\n",
    "    estimator=DecisionTreeRegressor(),\n",
    "    n_estimators=100\n",
    ")\n",
    "xgb_model = xgb.XGBRegressor(\n",
    "    objective='reg:squarederror', \n",
    "    max_depth=6,\n",
    "    n_estimators=500, \n",
    "    learning_rate=0.1\n",
    ")"
   ]
  },
  {
   "cell_type": "code",
   "execution_count": 78,
   "metadata": {},
   "outputs": [
    {
     "name": "stdout",
     "output_type": "stream",
     "text": [
      "Random Forest training complete\n",
      "AdaBoost training complete\n",
      "XGBoost training complete\n"
     ]
    }
   ],
   "source": [
    "# Train all models\n",
    "models = {\n",
    "    'Random Forest': rf_model,\n",
    "    'AdaBoost': ada_model,\n",
    "    'XGBoost': xgb_model\n",
    "}\n",
    "\n",
    "for name, model in models.items():\n",
    "    model.fit(sel_features, sel_target)\n",
    "    print(f\"{name} training complete\")"
   ]
  },
  {
   "cell_type": "code",
   "execution_count": 79,
   "metadata": {},
   "outputs": [
    {
     "data": {
      "image/png": "[encoded data removed]",
      "text/plain": [
       "<Figure size 1200x600 with 1 Axes>"
      ]
     },
     "metadata": {},
     "output_type": "display_data"
    }
   ],
   "source": [
    "# Extract feature importances\n",
    "feature_importances = {}\n",
    "for name, model in models.items():\n",
    "    feature_importances[name] = model.feature_importances_\n",
    "\n",
    "# Plot feature importances\n",
    "feature_names = sel_features.columns\n",
    "x = np.arange(len(feature_names))\n",
    "width = 0.25\n",
    "\n",
    "plt.figure(figsize=(12, 6))\n",
    "plt.bar(x - width, feature_importances['Random Forest'], width, label='Random Forest')\n",
    "plt.bar(x, feature_importances['AdaBoost'], width, label='AdaBoost')\n",
    "plt.bar(x + width, feature_importances['XGBoost'], width, label='XGBoost')\n",
    "\n",
    "plt.xlabel('Features')\n",
    "plt.ylabel('Importance')\n",
    "plt.title('Feature Importances Across Different Models')\n",
    "plt.xticks(x, feature_names, rotation=45)\n",
    "plt.legend()\n",
    "plt.tight_layout()\n",
    "plt.show()"
   ]
  },
  {
   "cell_type": "code",
   "execution_count": 81,
   "metadata": {},
   "outputs": [
    {
     "name": "stdout",
     "output_type": "stream",
     "text": [
      "\n",
      "Random Forest Feature Ranking:\n",
      "1. r_apercor (0.2952)\n",
      "2. u_apercor (0.2070)\n",
      "3. i_apercor (0.1519)\n",
      "4. g_apercor (0.1400)\n",
      "5. y_apercor (0.1131)\n",
      "6. z_apercor (0.0928)\n",
      "\n",
      "AdaBoost Feature Ranking:\n",
      "1. r_apercor (0.2816)\n",
      "2. u_apercor (0.2654)\n",
      "3. g_apercor (0.1746)\n",
      "4. i_apercor (0.1136)\n",
      "5. y_apercor (0.0896)\n",
      "6. z_apercor (0.0752)\n",
      "\n",
      "XGBoost Feature Ranking:\n",
      "1. r_apercor (0.3729)\n",
      "2. i_apercor (0.1474)\n",
      "3. y_apercor (0.1463)\n",
      "4. u_apercor (0.1439)\n",
      "5. z_apercor (0.1071)\n",
      "6. g_apercor (0.0825)\n",
      "[CV] END estimator__max_depth=6, learning_rate=0.3, loss=linear, n_estimators=20; total time=   1.0s\n",
      "[CV] END estimator__max_depth=6, learning_rate=0.3, loss=linear, n_estimators=50; total time=   1.7s\n",
      "[CV] END estimator__max_depth=6, learning_rate=0.3, loss=linear, n_estimators=100; total time=   2.8s\n",
      "[CV] END estimator__max_depth=6, learning_rate=0.3, loss=square, n_estimators=20; total time=   0.7s\n",
      "[CV] END estimator__max_depth=6, learning_rate=0.3, loss=square, n_estimators=20; total time=   0.7s\n",
      "[CV] END estimator__max_depth=6, learning_rate=0.3, loss=square, n_estimators=50; total time=   1.6s\n",
      "[CV] END estimator__max_depth=6, learning_rate=0.3, loss=square, n_estimators=50; total time=   1.7s\n",
      "[CV] END estimator__max_depth=6, learning_rate=0.3, loss=square, n_estimators=100; total time=   2.8s\n",
      "[CV] END estimator__max_depth=6, learning_rate=0.5, loss=linear, n_estimators=20; total time=   0.8s\n",
      "[CV] END estimator__max_depth=6, learning_rate=0.5, loss=linear, n_estimators=50; total time=   1.4s\n",
      "[CV] END estimator__max_depth=6, learning_rate=0.5, loss=linear, n_estimators=100; total time=   2.4s\n",
      "[CV] END estimator__max_depth=6, learning_rate=0.5, loss=linear, n_estimators=100; total time=   2.5s\n",
      "[CV] END estimator__max_depth=6, learning_rate=0.5, loss=square, n_estimators=50; total time=   1.4s\n",
      "[CV] END estimator__max_depth=6, learning_rate=0.5, loss=square, n_estimators=100; total time=   2.4s\n",
      "[CV] END estimator__max_depth=6, learning_rate=1.0, loss=linear, n_estimators=20; total time=   0.6s\n",
      "[CV] END estimator__max_depth=6, learning_rate=1.0, loss=linear, n_estimators=20; total time=   0.6s\n",
      "[CV] END estimator__max_depth=6, learning_rate=1.0, loss=linear, n_estimators=50; total time=   1.2s\n",
      "[CV] END estimator__max_depth=6, learning_rate=1.0, loss=linear, n_estimators=100; total time=   2.0s\n",
      "[CV] END estimator__max_depth=6, learning_rate=1.0, loss=linear, n_estimators=100; total time=   1.9s\n",
      "[CV] END estimator__max_depth=6, learning_rate=1.0, loss=square, n_estimators=50; total time=   1.1s\n",
      "[CV] END estimator__max_depth=6, learning_rate=1.0, loss=square, n_estimators=100; total time=   1.7s\n",
      "[CV] END estimator__max_depth=10, learning_rate=0.3, loss=linear, n_estimators=20; total time=   1.1s\n",
      "[CV] END estimator__max_depth=10, learning_rate=0.3, loss=linear, n_estimators=20; total time=   1.1s\n",
      "[CV] END estimator__max_depth=10, learning_rate=0.3, loss=linear, n_estimators=50; total time=   2.5s\n",
      "[CV] END estimator__max_depth=10, learning_rate=0.3, loss=linear, n_estimators=100; total time=   4.7s\n",
      "[CV] END estimator__max_depth=10, learning_rate=0.3, loss=square, n_estimators=20; total time=   1.2s\n",
      "[CV] END estimator__max_depth=10, learning_rate=0.3, loss=square, n_estimators=20; total time=   1.2s\n",
      "[CV] END estimator__max_depth=10, learning_rate=0.3, loss=square, n_estimators=50; total time=   2.7s\n",
      "[CV] END estimator__max_depth=10, learning_rate=0.3, loss=square, n_estimators=50; total time=   2.7s\n",
      "[CV] END estimator__max_depth=10, learning_rate=0.3, loss=square, n_estimators=100; total time=   4.9s\n",
      "[CV] END estimator__max_depth=10, learning_rate=0.5, loss=linear, n_estimators=20; total time=   1.0s\n",
      "[CV] END estimator__max_depth=10, learning_rate=0.5, loss=linear, n_estimators=50; total time=   2.6s\n",
      "[CV] END estimator__max_depth=10, learning_rate=0.5, loss=linear, n_estimators=100; total time=   4.3s\n",
      "[CV] END estimator__max_depth=10, learning_rate=0.5, loss=linear, n_estimators=100; total time=   4.2s\n",
      "[CV] END estimator__max_depth=10, learning_rate=0.5, loss=square, n_estimators=50; total time=   2.3s\n",
      "[CV] END estimator__max_depth=10, learning_rate=0.5, loss=square, n_estimators=100; total time=   4.3s\n",
      "[CV] END estimator__max_depth=10, learning_rate=1.0, loss=linear, n_estimators=20; total time=   1.0s\n",
      "[CV] END estimator__max_depth=10, learning_rate=1.0, loss=linear, n_estimators=20; total time=   1.0s\n",
      "[CV] END estimator__max_depth=10, learning_rate=1.0, loss=linear, n_estimators=50; total time=   2.1s\n",
      "[CV] END estimator__max_depth=10, learning_rate=1.0, loss=linear, n_estimators=100; total time=   3.7s\n",
      "[CV] END estimator__max_depth=10, learning_rate=1.0, loss=square, n_estimators=20; total time=   0.8s\n",
      "[CV] END estimator__max_depth=10, learning_rate=1.0, loss=square, n_estimators=20; total time=   0.8s\n",
      "[CV] END estimator__max_depth=10, learning_rate=1.0, loss=square, n_estimators=20; total time=   0.8s\n",
      "[CV] END estimator__max_depth=10, learning_rate=1.0, loss=square, n_estimators=50; total time=   1.6s\n",
      "[CV] END estimator__max_depth=10, learning_rate=1.0, loss=square, n_estimators=100; total time=   3.2s\n",
      "[CV] END estimator__max_depth=10, learning_rate=1.0, loss=square, n_estimators=100; total time=   3.0s\n",
      "[CV] END estimator__max_depth=None, learning_rate=0.3, loss=linear, n_estimators=50; total time=   3.9s\n",
      "[CV] END estimator__max_depth=None, learning_rate=0.3, loss=linear, n_estimators=50; total time=   4.0s\n",
      "[CV] END estimator__max_depth=None, learning_rate=0.3, loss=linear, n_estimators=100; total time=   7.9s\n",
      "[CV] END estimator__max_depth=None, learning_rate=0.3, loss=square, n_estimators=20; total time=   1.6s\n",
      "[CV] END estimator__max_depth=None, learning_rate=0.3, loss=square, n_estimators=50; total time=   4.1s\n",
      "[CV] END estimator__max_depth=None, learning_rate=0.3, loss=square, n_estimators=100; total time=   7.8s\n",
      "[CV] END estimator__max_depth=None, learning_rate=0.5, loss=linear, n_estimators=20; total time=   1.6s\n",
      "[CV] END estimator__max_depth=None, learning_rate=0.5, loss=linear, n_estimators=20; total time=   1.5s\n",
      "[CV] END estimator__max_depth=None, learning_rate=0.5, loss=linear, n_estimators=20; total time=   1.6s\n",
      "[CV] END estimator__max_depth=None, learning_rate=0.5, loss=linear, n_estimators=50; total time=   4.0s\n",
      "[CV] END estimator__max_depth=None, learning_rate=0.5, loss=linear, n_estimators=100; total time=   7.9s\n",
      "[CV] END estimator__max_depth=None, learning_rate=0.5, loss=linear, n_estimators=100; total time=   7.5s\n",
      "[CV] END estimator__max_depth=None, learning_rate=0.5, loss=square, n_estimators=50; total time=   4.0s\n",
      "[CV] END estimator__max_depth=None, learning_rate=0.5, loss=square, n_estimators=100; total time=   7.0s\n",
      "[CV] END estimator__max_depth=None, learning_rate=1.0, loss=linear, n_estimators=20; total time=   1.5s\n",
      "[CV] END estimator__max_depth=None, learning_rate=1.0, loss=linear, n_estimators=50; total time=   3.3s\n",
      "[CV] END estimator__max_depth=None, learning_rate=1.0, loss=linear, n_estimators=50; total time=   3.6s\n",
      "[CV] END estimator__max_depth=None, learning_rate=1.0, loss=linear, n_estimators=100; total time=   6.8s\n",
      "[CV] END estimator__max_depth=None, learning_rate=1.0, loss=square, n_estimators=20; total time=   1.1s\n",
      "[CV] END estimator__max_depth=None, learning_rate=1.0, loss=square, n_estimators=50; total time=   2.0s\n",
      "[CV] END estimator__max_depth=None, learning_rate=1.0, loss=square, n_estimators=50; total time=   2.0s\n",
      "[CV] END estimator__max_depth=None, learning_rate=1.0, loss=square, n_estimators=100; total time=   2.6s\n",
      "[CV] END estimator__max_depth=6, learning_rate=0.3, loss=linear, n_estimators=20; total time=   0.8s\n",
      "[CV] END estimator__max_depth=6, learning_rate=0.3, loss=linear, n_estimators=50; total time=   1.8s\n",
      "[CV] END estimator__max_depth=6, learning_rate=0.3, loss=linear, n_estimators=100; total time=   3.0s\n",
      "[CV] END estimator__max_depth=6, learning_rate=0.3, loss=linear, n_estimators=100; total time=   2.9s\n",
      "[CV] END estimator__max_depth=6, learning_rate=0.3, loss=square, n_estimators=50; total time=   1.7s\n",
      "[CV] END estimator__max_depth=6, learning_rate=0.3, loss=square, n_estimators=100; total time=   2.8s\n",
      "[CV] END estimator__max_depth=6, learning_rate=0.5, loss=linear, n_estimators=20; total time=   0.7s\n",
      "[CV] END estimator__max_depth=6, learning_rate=0.5, loss=linear, n_estimators=20; total time=   0.7s\n",
      "[CV] END estimator__max_depth=6, learning_rate=0.5, loss=linear, n_estimators=50; total time=   1.5s\n",
      "[CV] END estimator__max_depth=6, learning_rate=0.5, loss=linear, n_estimators=100; total time=   2.4s\n",
      "[CV] END estimator__max_depth=6, learning_rate=0.5, loss=square, n_estimators=20; total time=   0.7s\n",
      "[CV] END estimator__max_depth=6, learning_rate=0.5, loss=square, n_estimators=20; total time=   0.7s\n",
      "[CV] END estimator__max_depth=6, learning_rate=0.5, loss=square, n_estimators=50; total time=   1.5s\n",
      "[CV] END estimator__max_depth=6, learning_rate=0.5, loss=square, n_estimators=50; total time=   1.5s\n",
      "[CV] END estimator__max_depth=6, learning_rate=0.5, loss=square, n_estimators=100; total time=   2.4s\n",
      "[CV] END estimator__max_depth=6, learning_rate=1.0, loss=linear, n_estimators=50; total time=   1.2s\n",
      "[CV] END estimator__max_depth=6, learning_rate=1.0, loss=linear, n_estimators=50; total time=   1.1s\n",
      "[CV] END estimator__max_depth=6, learning_rate=1.0, loss=linear, n_estimators=100; total time=   2.0s\n",
      "[CV] END estimator__max_depth=6, learning_rate=1.0, loss=square, n_estimators=20; total time=   0.6s\n",
      "[CV] END estimator__max_depth=6, learning_rate=1.0, loss=square, n_estimators=50; total time=   1.0s\n",
      "[CV] END estimator__max_depth=6, learning_rate=1.0, loss=square, n_estimators=100; total time=   1.9s\n",
      "[CV] END estimator__max_depth=6, learning_rate=1.0, loss=square, n_estimators=100; total time=   1.7s\n",
      "[CV] END estimator__max_depth=10, learning_rate=0.3, loss=linear, n_estimators=50; total time=   2.7s\n",
      "[CV] END estimator__max_depth=10, learning_rate=0.3, loss=linear, n_estimators=100; total time=   4.9s\n",
      "[CV] END estimator__max_depth=10, learning_rate=0.3, loss=linear, n_estimators=100; total time=   4.9s\n",
      "[CV] END estimator__max_depth=10, learning_rate=0.3, loss=square, n_estimators=50; total time=   2.7s\n",
      "[CV] END estimator__max_depth=10, learning_rate=0.3, loss=square, n_estimators=100; total time=   5.0s\n",
      "[CV] END estimator__max_depth=10, learning_rate=0.5, loss=linear, n_estimators=20; total time=   1.1s\n",
      "[CV] END estimator__max_depth=10, learning_rate=0.5, loss=linear, n_estimators=50; total time=   2.5s\n",
      "[CV] END estimator__max_depth=10, learning_rate=0.5, loss=linear, n_estimators=50; total time=   2.4s\n",
      "[CV] END estimator__max_depth=10, learning_rate=0.5, loss=linear, n_estimators=100; total time=   4.3s\n",
      "[CV] END estimator__max_depth=10, learning_rate=0.5, loss=square, n_estimators=20; total time=   1.1s\n",
      "[CV] END estimator__max_depth=10, learning_rate=0.5, loss=square, n_estimators=50; total time=   2.6s\n",
      "[CV] END estimator__max_depth=10, learning_rate=0.5, loss=square, n_estimators=100; total time=   4.6s\n",
      "[CV] END estimator__max_depth=10, learning_rate=1.0, loss=linear, n_estimators=20; total time=   1.0s\n",
      "[CV] END estimator__max_depth=10, learning_rate=1.0, loss=linear, n_estimators=20; total time=   1.0s\n",
      "[CV] END estimator__max_depth=10, learning_rate=1.0, loss=linear, n_estimators=50; total time=   2.2s\n",
      "[CV] END estimator__max_depth=10, learning_rate=1.0, loss=linear, n_estimators=50; total time=   2.3s\n",
      "[CV] END estimator__max_depth=10, learning_rate=1.0, loss=linear, n_estimators=100; total time=   3.7s\n",
      "[CV] END estimator__max_depth=10, learning_rate=1.0, loss=square, n_estimators=20; total time=   0.8s\n",
      "[CV] END estimator__max_depth=10, learning_rate=1.0, loss=square, n_estimators=50; total time=   1.7s\n",
      "[CV] END estimator__max_depth=10, learning_rate=1.0, loss=square, n_estimators=100; total time=   3.1s\n",
      "[CV] END estimator__max_depth=None, learning_rate=0.3, loss=linear, n_estimators=20; total time=   1.5s\n",
      "[CV] END estimator__max_depth=None, learning_rate=0.3, loss=linear, n_estimators=20; total time=   1.7s\n",
      "[CV] END estimator__max_depth=None, learning_rate=0.3, loss=linear, n_estimators=50; total time=   4.1s\n",
      "[CV] END estimator__max_depth=None, learning_rate=0.3, loss=linear, n_estimators=100; total time=   7.9s\n",
      "[CV] END estimator__max_depth=None, learning_rate=0.3, loss=square, n_estimators=20; total time=   1.6s\n",
      "[CV] END estimator__max_depth=None, learning_rate=0.3, loss=square, n_estimators=20; total time=   1.7s\n",
      "[CV] END estimator__max_depth=None, learning_rate=0.3, loss=square, n_estimators=50; total time=   4.1s\n",
      "[CV] END estimator__max_depth=None, learning_rate=0.3, loss=square, n_estimators=50; total time=   4.2s\n",
      "[CV] END estimator__max_depth=None, learning_rate=0.3, loss=square, n_estimators=100; total time=   8.3s\n",
      "[CV] END estimator__max_depth=None, learning_rate=0.5, loss=linear, n_estimators=20; total time=   1.7s\n",
      "[CV] END estimator__max_depth=None, learning_rate=0.5, loss=linear, n_estimators=50; total time=   4.1s\n",
      "[CV] END estimator__max_depth=None, learning_rate=0.5, loss=linear, n_estimators=100; total time=   7.9s\n",
      "[CV] END estimator__max_depth=None, learning_rate=0.5, loss=square, n_estimators=20; total time=   1.6s\n",
      "[CV] END estimator__max_depth=None, learning_rate=0.5, loss=square, n_estimators=20; total time=   1.6s\n",
      "[CV] END estimator__max_depth=None, learning_rate=0.5, loss=square, n_estimators=20; total time=   1.7s\n",
      "[CV] END estimator__max_depth=None, learning_rate=0.5, loss=square, n_estimators=50; total time=   3.9s\n",
      "[CV] END estimator__max_depth=None, learning_rate=0.5, loss=square, n_estimators=100; total time=   7.2s\n",
      "[CV] END estimator__max_depth=None, learning_rate=0.5, loss=square, n_estimators=100; total time=   7.5s\n",
      "[CV] END estimator__max_depth=None, learning_rate=1.0, loss=linear, n_estimators=50; total time=   3.5s\n",
      "[CV] END estimator__max_depth=None, learning_rate=1.0, loss=linear, n_estimators=100; total time=   7.0s\n",
      "[CV] END estimator__max_depth=None, learning_rate=1.0, loss=square, n_estimators=20; total time=   0.9s\n",
      "[CV] END estimator__max_depth=None, learning_rate=1.0, loss=square, n_estimators=50; total time=   1.8s\n",
      "[CV] END estimator__max_depth=None, learning_rate=1.0, loss=square, n_estimators=100; total time=   3.3s\n",
      "[CV] END estimator__max_depth=None, learning_rate=1.0, loss=square, n_estimators=100; total time=   2.4s\n",
      "[CV] END estimator__max_depth=6, learning_rate=0.3, loss=linear, n_estimators=20; total time=   0.8s\n",
      "[CV] END estimator__max_depth=6, learning_rate=0.3, loss=linear, n_estimators=20; total time=   0.7s\n",
      "[CV] END estimator__max_depth=6, learning_rate=0.3, loss=linear, n_estimators=50; total time=   1.7s\n",
      "[CV] END estimator__max_depth=6, learning_rate=0.3, loss=linear, n_estimators=100; total time=   2.7s\n",
      "[CV] END estimator__max_depth=6, learning_rate=0.3, loss=square, n_estimators=20; total time=   0.8s\n",
      "[CV] END estimator__max_depth=6, learning_rate=0.3, loss=square, n_estimators=20; total time=   0.8s\n",
      "[CV] END estimator__max_depth=6, learning_rate=0.3, loss=square, n_estimators=50; total time=   1.8s\n",
      "[CV] END estimator__max_depth=6, learning_rate=0.3, loss=square, n_estimators=100; total time=   2.8s\n",
      "[CV] END estimator__max_depth=6, learning_rate=0.3, loss=square, n_estimators=100; total time=   2.8s\n",
      "[CV] END estimator__max_depth=6, learning_rate=0.5, loss=linear, n_estimators=50; total time=   1.4s\n",
      "[CV] END estimator__max_depth=6, learning_rate=0.5, loss=linear, n_estimators=100; total time=   2.5s\n",
      "[CV] END estimator__max_depth=6, learning_rate=0.5, loss=square, n_estimators=20; total time=   0.7s\n",
      "[CV] END estimator__max_depth=6, learning_rate=0.5, loss=square, n_estimators=20; total time=   0.7s\n",
      "[CV] END estimator__max_depth=6, learning_rate=0.5, loss=square, n_estimators=50; total time=   1.3s\n",
      "[CV] END estimator__max_depth=6, learning_rate=0.5, loss=square, n_estimators=100; total time=   2.4s\n",
      "[CV] END estimator__max_depth=6, learning_rate=1.0, loss=linear, n_estimators=20; total time=   0.6s\n",
      "[CV] END estimator__max_depth=6, learning_rate=1.0, loss=linear, n_estimators=20; total time=   0.6s\n",
      "[CV] END estimator__max_depth=6, learning_rate=1.0, loss=linear, n_estimators=20; total time=   0.6s\n",
      "[CV] END estimator__max_depth=6, learning_rate=1.0, loss=linear, n_estimators=50; total time=   1.1s\n",
      "[CV] END estimator__max_depth=6, learning_rate=1.0, loss=linear, n_estimators=100; total time=   1.9s\n",
      "[CV] END estimator__max_depth=6, learning_rate=1.0, loss=square, n_estimators=20; total time=   0.5s\n",
      "[CV] END estimator__max_depth=6, learning_rate=1.0, loss=square, n_estimators=20; total time=   0.5s\n",
      "[CV] END estimator__max_depth=6, learning_rate=1.0, loss=square, n_estimators=20; total time=   0.6s\n",
      "[CV] END estimator__max_depth=6, learning_rate=1.0, loss=square, n_estimators=50; total time=   1.1s\n",
      "[CV] END estimator__max_depth=6, learning_rate=1.0, loss=square, n_estimators=100; total time=   1.7s\n",
      "[CV] END estimator__max_depth=10, learning_rate=0.3, loss=linear, n_estimators=20; total time=   1.1s\n",
      "[CV] END estimator__max_depth=10, learning_rate=0.3, loss=linear, n_estimators=20; total time=   1.1s\n",
      "[CV] END estimator__max_depth=10, learning_rate=0.3, loss=linear, n_estimators=50; total time=   2.6s\n",
      "[CV] END estimator__max_depth=10, learning_rate=0.3, loss=linear, n_estimators=100; total time=   4.9s\n",
      "[CV] END estimator__max_depth=10, learning_rate=0.3, loss=square, n_estimators=20; total time=   1.1s\n",
      "[CV] END estimator__max_depth=10, learning_rate=0.3, loss=square, n_estimators=20; total time=   1.1s\n",
      "[CV] END estimator__max_depth=10, learning_rate=0.3, loss=square, n_estimators=50; total time=   2.7s\n",
      "[CV] END estimator__max_depth=10, learning_rate=0.3, loss=square, n_estimators=100; total time=   4.9s\n",
      "[CV] END estimator__max_depth=10, learning_rate=0.3, loss=square, n_estimators=100; total time=   4.9s\n",
      "[CV] END estimator__max_depth=10, learning_rate=0.5, loss=linear, n_estimators=50; total time=   2.5s\n",
      "[CV] END estimator__max_depth=10, learning_rate=0.5, loss=linear, n_estimators=100; total time=   4.5s\n",
      "[CV] END estimator__max_depth=10, learning_rate=0.5, loss=square, n_estimators=20; total time=   1.1s\n",
      "[CV] END estimator__max_depth=10, learning_rate=0.5, loss=square, n_estimators=20; total time=   1.1s\n",
      "[CV] END estimator__max_depth=10, learning_rate=0.5, loss=square, n_estimators=50; total time=   2.5s\n",
      "[CV] END estimator__max_depth=10, learning_rate=0.5, loss=square, n_estimators=100; total time=   4.4s\n",
      "[CV] END estimator__max_depth=10, learning_rate=0.5, loss=square, n_estimators=100; total time=   4.2s\n",
      "[CV] END estimator__max_depth=10, learning_rate=1.0, loss=linear, n_estimators=50; total time=   2.0s\n",
      "[CV] END estimator__max_depth=10, learning_rate=1.0, loss=linear, n_estimators=100; total time=   3.7s\n",
      "[CV] END estimator__max_depth=10, learning_rate=1.0, loss=square, n_estimators=20; total time=   0.9s\n",
      "[CV] END estimator__max_depth=10, learning_rate=1.0, loss=square, n_estimators=50; total time=   1.7s\n",
      "[CV] END estimator__max_depth=10, learning_rate=1.0, loss=square, n_estimators=50; total time=   1.8s\n",
      "[CV] END estimator__max_depth=10, learning_rate=1.0, loss=square, n_estimators=100; total time=   3.1s\n",
      "[CV] END estimator__max_depth=None, learning_rate=0.3, loss=linear, n_estimators=20; total time=   1.5s\n",
      "[CV] END estimator__max_depth=None, learning_rate=0.3, loss=linear, n_estimators=50; total time=   4.0s\n",
      "[CV] END estimator__max_depth=None, learning_rate=0.3, loss=linear, n_estimators=100; total time=   8.0s\n",
      "[CV] END estimator__max_depth=None, learning_rate=0.3, loss=linear, n_estimators=100; total time=   8.0s\n",
      "[CV] END estimator__max_depth=None, learning_rate=0.3, loss=square, n_estimators=50; total time=   4.0s\n",
      "[CV] END estimator__max_depth=None, learning_rate=0.3, loss=square, n_estimators=100; total time=   8.3s\n",
      "[CV] END estimator__max_depth=None, learning_rate=0.5, loss=linear, n_estimators=20; total time=   1.5s\n",
      "[CV] END estimator__max_depth=None, learning_rate=0.5, loss=linear, n_estimators=50; total time=   4.0s\n",
      "[CV] END estimator__max_depth=None, learning_rate=0.5, loss=linear, n_estimators=50; total time=   4.0s\n",
      "[CV] END estimator__max_depth=None, learning_rate=0.5, loss=linear, n_estimators=100; total time=   7.8s\n",
      "[CV] END estimator__max_depth=None, learning_rate=0.5, loss=square, n_estimators=20; total time=   1.7s\n",
      "[CV] END estimator__max_depth=None, learning_rate=0.5, loss=square, n_estimators=50; total time=   4.1s\n",
      "[CV] END estimator__max_depth=None, learning_rate=0.5, loss=square, n_estimators=100; total time=   7.2s\n",
      "[CV] END estimator__max_depth=None, learning_rate=1.0, loss=linear, n_estimators=20; total time=   1.5s\n",
      "[CV] END estimator__max_depth=None, learning_rate=1.0, loss=linear, n_estimators=20; total time=   1.6s\n",
      "[CV] END estimator__max_depth=None, learning_rate=1.0, loss=linear, n_estimators=20; total time=   1.4s\n",
      "[CV] END estimator__max_depth=None, learning_rate=1.0, loss=linear, n_estimators=50; total time=   3.6s\n",
      "[CV] END estimator__max_depth=None, learning_rate=1.0, loss=linear, n_estimators=100; total time=   6.8s\n",
      "[CV] END estimator__max_depth=None, learning_rate=1.0, loss=square, n_estimators=20; total time=   1.1s\n",
      "[CV] END estimator__max_depth=None, learning_rate=1.0, loss=square, n_estimators=20; total time=   0.9s\n",
      "[CV] END estimator__max_depth=None, learning_rate=1.0, loss=square, n_estimators=20; total time=   1.0s\n",
      "[CV] END estimator__max_depth=None, learning_rate=1.0, loss=square, n_estimators=50; total time=   1.9s\n",
      "[CV] END estimator__max_depth=None, learning_rate=1.0, loss=square, n_estimators=50; total time=   1.9s\n",
      "[CV] END estimator__max_depth=None, learning_rate=1.0, loss=square, n_estimators=100; total time=   2.8s\n",
      "[CV] END estimator__max_depth=6, learning_rate=0.3, loss=linear, n_estimators=20; total time=   0.9s\n",
      "[CV] END estimator__max_depth=6, learning_rate=0.3, loss=linear, n_estimators=50; total time=   1.7s\n",
      "[CV] END estimator__max_depth=6, learning_rate=0.3, loss=linear, n_estimators=50; total time=   1.7s\n",
      "[CV] END estimator__max_depth=6, learning_rate=0.3, loss=linear, n_estimators=100; total time=   2.7s\n",
      "[CV] END estimator__max_depth=6, learning_rate=0.3, loss=square, n_estimators=20; total time=   0.8s\n",
      "[CV] END estimator__max_depth=6, learning_rate=0.3, loss=square, n_estimators=50; total time=   1.8s\n",
      "[CV] END estimator__max_depth=6, learning_rate=0.3, loss=square, n_estimators=100; total time=   3.0s\n",
      "[CV] END estimator__max_depth=6, learning_rate=0.5, loss=linear, n_estimators=20; total time=   0.7s\n",
      "[CV] END estimator__max_depth=6, learning_rate=0.5, loss=linear, n_estimators=20; total time=   0.7s\n",
      "[CV] END estimator__max_depth=6, learning_rate=0.5, loss=linear, n_estimators=50; total time=   1.5s\n",
      "[CV] END estimator__max_depth=6, learning_rate=0.5, loss=linear, n_estimators=50; total time=   1.5s\n",
      "[CV] END estimator__max_depth=6, learning_rate=0.5, loss=linear, n_estimators=100; total time=   2.3s\n",
      "[CV] END estimator__max_depth=6, learning_rate=0.5, loss=square, n_estimators=20; total time=   0.8s\n",
      "[CV] END estimator__max_depth=6, learning_rate=0.5, loss=square, n_estimators=50; total time=   1.4s\n",
      "[CV] END estimator__max_depth=6, learning_rate=0.5, loss=square, n_estimators=100; total time=   2.3s\n",
      "[CV] END estimator__max_depth=6, learning_rate=0.5, loss=square, n_estimators=100; total time=   2.5s\n",
      "[CV] END estimator__max_depth=6, learning_rate=1.0, loss=linear, n_estimators=50; total time=   1.2s\n",
      "[CV] END estimator__max_depth=6, learning_rate=1.0, loss=linear, n_estimators=100; total time=   2.0s\n",
      "[CV] END estimator__max_depth=6, learning_rate=1.0, loss=square, n_estimators=20; total time=   0.6s\n",
      "[CV] END estimator__max_depth=6, learning_rate=1.0, loss=square, n_estimators=50; total time=   1.1s\n",
      "[CV] END estimator__max_depth=6, learning_rate=1.0, loss=square, n_estimators=50; total time=   1.1s\n",
      "[CV] END estimator__max_depth=6, learning_rate=1.0, loss=square, n_estimators=100; total time=   1.7s\n",
      "[CV] END estimator__max_depth=10, learning_rate=0.3, loss=linear, n_estimators=20; total time=   1.1s\n",
      "[CV] END estimator__max_depth=10, learning_rate=0.3, loss=linear, n_estimators=50; total time=   2.6s\n",
      "[CV] END estimator__max_depth=10, learning_rate=0.3, loss=linear, n_estimators=50; total time=   2.5s\n",
      "[CV] END estimator__max_depth=10, learning_rate=0.3, loss=linear, n_estimators=100; total time=   4.8s\n",
      "[CV] END estimator__max_depth=10, learning_rate=0.3, loss=square, n_estimators=20; total time=   1.1s\n",
      "[CV] END estimator__max_depth=10, learning_rate=0.3, loss=square, n_estimators=50; total time=   2.7s\n",
      "[CV] END estimator__max_depth=10, learning_rate=0.3, loss=square, n_estimators=100; total time=   5.0s\n",
      "[CV] END estimator__max_depth=10, learning_rate=0.5, loss=linear, n_estimators=20; total time=   1.0s\n",
      "[CV] END estimator__max_depth=10, learning_rate=0.5, loss=linear, n_estimators=20; total time=   1.1s\n",
      "[CV] END estimator__max_depth=10, learning_rate=0.5, loss=linear, n_estimators=20; total time=   1.0s\n",
      "[CV] END estimator__max_depth=10, learning_rate=0.5, loss=linear, n_estimators=50; total time=   2.5s\n",
      "[CV] END estimator__max_depth=10, learning_rate=0.5, loss=linear, n_estimators=100; total time=   4.6s\n",
      "[CV] END estimator__max_depth=10, learning_rate=0.5, loss=square, n_estimators=20; total time=   1.1s\n",
      "[CV] END estimator__max_depth=10, learning_rate=0.5, loss=square, n_estimators=20; total time=   1.1s\n",
      "[CV] END estimator__max_depth=10, learning_rate=0.5, loss=square, n_estimators=50; total time=   2.6s\n",
      "[CV] END estimator__max_depth=10, learning_rate=0.5, loss=square, n_estimators=50; total time=   2.4s\n",
      "[CV] END estimator__max_depth=10, learning_rate=0.5, loss=square, n_estimators=100; total time=   4.3s\n",
      "[CV] END estimator__max_depth=10, learning_rate=1.0, loss=linear, n_estimators=20; total time=   1.0s\n",
      "[CV] END estimator__max_depth=10, learning_rate=1.0, loss=linear, n_estimators=50; total time=   2.1s\n",
      "[CV] END estimator__max_depth=10, learning_rate=1.0, loss=linear, n_estimators=100; total time=   3.7s\n",
      "[CV] END estimator__max_depth=10, learning_rate=1.0, loss=linear, n_estimators=100; total time=   3.7s\n",
      "[CV] END estimator__max_depth=10, learning_rate=1.0, loss=square, n_estimators=50; total time=   1.5s\n",
      "[CV] END estimator__max_depth=10, learning_rate=1.0, loss=square, n_estimators=100; total time=   3.0s\n",
      "[CV] END estimator__max_depth=None, learning_rate=0.3, loss=linear, n_estimators=20; total time=   1.5s\n",
      "[CV] END estimator__max_depth=None, learning_rate=0.3, loss=linear, n_estimators=20; total time=   1.6s\n",
      "[CV] END estimator__max_depth=None, learning_rate=0.3, loss=linear, n_estimators=50; total time=   4.0s\n",
      "[CV] END estimator__max_depth=None, learning_rate=0.3, loss=linear, n_estimators=100; total time=   8.0s\n",
      "[CV] END estimator__max_depth=None, learning_rate=0.3, loss=square, n_estimators=20; total time=   1.6s\n",
      "[CV] END estimator__max_depth=None, learning_rate=0.3, loss=square, n_estimators=20; total time=   1.7s\n",
      "[CV] END estimator__max_depth=None, learning_rate=0.3, loss=square, n_estimators=50; total time=   4.0s\n",
      "[CV] END estimator__max_depth=None, learning_rate=0.3, loss=square, n_estimators=100; total time=   7.7s\n",
      "[CV] END estimator__max_depth=None, learning_rate=0.3, loss=square, n_estimators=100; total time=   8.1s\n",
      "[CV] END estimator__max_depth=None, learning_rate=0.5, loss=linear, n_estimators=50; total time=   4.1s\n",
      "[CV] END estimator__max_depth=None, learning_rate=0.5, loss=linear, n_estimators=100; total time=   8.0s\n",
      "[CV] END estimator__max_depth=None, learning_rate=0.5, loss=square, n_estimators=20; total time=   1.7s\n",
      "[CV] END estimator__max_depth=None, learning_rate=0.5, loss=square, n_estimators=50; total time=   3.7s\n",
      "[CV] END estimator__max_depth=None, learning_rate=0.5, loss=square, n_estimators=50; total time=   3.9s\n",
      "[CV] END estimator__max_depth=None, learning_rate=0.5, loss=square, n_estimators=100; total time=   7.1s\n",
      "[CV] END estimator__max_depth=None, learning_rate=1.0, loss=linear, n_estimators=20; total time=   1.4s\n",
      "[CV] END estimator__max_depth=None, learning_rate=1.0, loss=linear, n_estimators=50; total time=   3.5s\n",
      "[CV] END estimator__max_depth=None, learning_rate=1.0, loss=linear, n_estimators=100; total time=   6.8s\n",
      "[CV] END estimator__max_depth=None, learning_rate=1.0, loss=linear, n_estimators=100; total time=   6.8s\n",
      "[CV] END estimator__max_depth=None, learning_rate=1.0, loss=square, n_estimators=100; total time=   2.9s\n"
     ]
    }
   ],
   "source": [
    "# Print the feature rankings for each model\n",
    "for name, importances in feature_importances.items():\n",
    "    indices = np.argsort(importances)[::-1]\n",
    "    print(f\"\\n{name} Feature Ranking:\")\n",
    "    for i, idx in enumerate(indices):\n",
    "        print(f\"{i+1}. {feature_names[idx]} ({importances[idx]:.4f})\")"
   ]
  },
  {
   "cell_type": "code",
   "execution_count": 82,
   "metadata": {},
   "outputs": [
    {
     "data": {
      "text/plain": [
       "'\\nFeature Importance Analysis in Ensemble Methods for Redshift Estimation\\n1. Consistency across models\\n\\nThe r-band (r_apercor) dominates as the most important feature across all three models (29-37% importance)\\nu-band and i-band consistently appear in the top three features\\nThis cross-model consistency provides strong evidence that these spectral bands capture fundamental relationships with redshift\\n\\n2. Differences between models\\n\\nRandom Forest: More balanced distribution, giving meaningful weight to all six bands\\nAdaBoost: Concentrates ~55% of importance in just two bands (r and u)\\nXGBoost: Shows unique preference patterns, elevating y-band importance while downgrading g-band\\n\\n3. Physics interpretation\\n\\nThe importance of r-band aligns with the 4000Å break feature that shifts through optical bands with redshift\\nThe balanced importance of both blue (u, g) and red (i, z, y) bands reflects how galaxy spectral features move across the electromagnetic spectrum with increasing distance\\nThe models have independently discovered the wavelength ranges most sensitive to redshift changes\\n\\n4. Model differences explained\\n\\nRandom Forest: By sampling random feature subsets for each tree, naturally distributes importance more evenly\\nAdaBoost: Sequential error-focused learning leads to heavier weighting of the most discriminative features\\nXGBoost: Built-in regularization prevents over-reliance on any single feature, producing a more balanced approach\\n\\n5. Practical implications\\n\\nA simplified model using only r, u, and i bands could potentially capture ~65-75% of the predictive power\\nFor large-scale galactic surveys, focusing computational resources on these key bands could optimize efficiency\\nFeature importance provides guidance for instrument design and observational strategies in future surveys\\n'"
      ]
     },
     "execution_count": 82,
     "metadata": {},
     "output_type": "execute_result"
    }
   ],
   "source": [
    "\"\"\"\n",
    "Feature Importance Analysis in Ensemble Methods for Redshift Estimation\n",
    "1. Consistency across models\n",
    "\n",
    "The r-band (r_apercor) dominates as the most important feature across all three models (29-37% importance)\n",
    "u-band and i-band consistently appear in the top three features\n",
    "This cross-model consistency provides strong evidence that these spectral bands capture fundamental relationships with redshift\n",
    "\n",
    "2. Differences between models\n",
    "\n",
    "Random Forest: More balanced distribution, giving meaningful weight to all six bands\n",
    "AdaBoost: Concentrates ~55% of importance in just two bands (r and u)\n",
    "XGBoost: Shows unique preference patterns, elevating y-band importance while downgrading g-band\n",
    "\n",
    "3. Physics interpretation\n",
    "\n",
    "The importance of r-band aligns with the 4000Å break feature that shifts through optical bands with redshift\n",
    "The balanced importance of both blue (u, g) and red (i, z, y) bands reflects how galaxy spectral features move across the electromagnetic spectrum with increasing distance\n",
    "The models have independently discovered the wavelength ranges most sensitive to redshift changes\n",
    "\n",
    "4. Model differences explained\n",
    "\n",
    "Random Forest: By sampling random feature subsets for each tree, naturally distributes importance more evenly\n",
    "AdaBoost: Sequential error-focused learning leads to heavier weighting of the most discriminative features\n",
    "XGBoost: Built-in regularization prevents over-reliance on any single feature, producing a more balanced approach\n",
    "\n",
    "5. Practical implications\n",
    "\n",
    "A simplified model using only r, u, and i bands could potentially capture ~65-75% of the predictive power\n",
    "For large-scale galactic surveys, focusing computational resources on these key bands could optimize efficiency\n",
    "Feature importance provides guidance for instrument design and observational strategies in future surveys\n",
    "\"\"\""
   ]
  }
 ],
 "metadata": {
  "colab": {
   "provenance": []
  },
  "kernelspec": {
   "display_name": "Python 3 (ipykernel)",
   "language": "python",
   "name": "python3"
  },
  "language_info": {
   "codemirror_mode": {
    "name": "ipython",
    "version": 3
   },
   "file_extension": ".py",
   "mimetype": "text/x-python",
   "name": "python",
   "nbconvert_exporter": "python",
   "pygments_lexer": "ipython3",
   "version": "3.11.7"
  }
 },
 "nbformat": 4,
 "nbformat_minor": 4
}
